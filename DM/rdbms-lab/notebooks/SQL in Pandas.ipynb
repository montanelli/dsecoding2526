{
 "cells": [
  {
   "cell_type": "markdown",
   "metadata": {},
   "source": [
    "# SQL operations in Pandas"
   ]
  },
  {
   "cell_type": "code",
   "execution_count": null,
   "metadata": {},
   "outputs": [],
   "source": [
    "import pandas as pd\n",
    "import psycopg2"
   ]
  },
  {
   "cell_type": "markdown",
   "metadata": {},
   "source": [
    "### Read/Write from/to Pandas and DB.\n",
    "\n",
    "The key functions to read and write data to&from a database:\n",
    "\n",
    "- `read_sql()` Read the result of a SQL query into a pandas DataFrame.\n",
    "\n",
    "- `to_sql()` Write a pandas DataFrame into a database."
   ]
  },
  {
   "cell_type": "markdown",
   "metadata": {},
   "source": [
    "These methods require an established connection to the database.\\\n",
    "To connect to a database from Python, you need to use a database-specific driver library (e.g., `psycopg2` for PostgreSQL or `pymysql` for MySQL.)\\\n",
    "To reduce the dependency on DB-specific API, you can use a database-agnostic toolkit: **SQLAlchemy**.\n",
    " \n",
    "\n",
    " 1) Create an engine using the SQLAlchemy `create_engine()` function. Specify the following info:\n",
    "\n",
    "- `dbms + driver(optional)`: The DBMS we want to use (e.g., PostgresSQL, MySQL, Oracle)\n",
    "- `user:password@host:port`: The user credintails and the IP address of the machine where the dbms is running.\\\n",
    "    We can use localhost, or 127.0.0.1. The port number (default: 5432)\n",
    "- `database`: The name of the database to which you want to connect.\n",
    "\n",
    " 2) Connect to the database using the `engine` \n"
   ]
  },
  {
   "cell_type": "code",
   "execution_count": null,
   "metadata": {},
   "outputs": [],
   "source": [
    "dbms = \"postgresql\"\n",
    "user = \"postgres\"\n",
    "password = \"2104\"\n",
    "host = \"localhost\"\n",
    "port = \"5432\"\n",
    "database = \"imdb\""
   ]
  },
  {
   "cell_type": "code",
   "execution_count": null,
   "metadata": {},
   "outputs": [],
   "source": [
    "import sqlalchemy \n",
    "\n",
    "# 1) create an engine\n",
    "engine = sqlalchemy.create_engine(f'{dbms}://{user}:{password}@{host}:{port}/{database}')\n",
    "\n",
    "# 2) use the engine to connect to the database\n",
    "connection = engine#.connect()"
   ]
  },
  {
   "cell_type": "markdown",
   "metadata": {},
   "source": [
    "#### Reading tables from DB into Pandas DataFrames"
   ]
  },
  {
   "cell_type": "code",
   "execution_count": null,
   "metadata": {},
   "outputs": [],
   "source": [
    "movie_df = pd.read_sql(sql=\"SELECT * FROM public.movie\", con=connection)\n",
    "movie_df.columns"
   ]
  },
  {
   "cell_type": "code",
   "execution_count": null,
   "metadata": {},
   "outputs": [],
   "source": [
    "genres_df = pd.read_sql(sql=\"SELECT * FROM public.genre\", con=connection)\n",
    "genres_df.columns"
   ]
  },
  {
   "cell_type": "code",
   "execution_count": null,
   "metadata": {},
   "outputs": [],
   "source": [
    "person_df = pd.read_sql(sql=\"SELECT * FROM public.person\", con=connection)\n",
    "person_df.columns"
   ]
  },
  {
   "cell_type": "code",
   "execution_count": null,
   "metadata": {},
   "outputs": [],
   "source": [
    "produced_df = pd.read_sql(\"SELECT * FROM public.produced\", con=connection)\n",
    "produced_df.columns"
   ]
  },
  {
   "cell_type": "code",
   "execution_count": null,
   "metadata": {},
   "outputs": [],
   "source": [
    "crew_df = pd.read_sql(\"SELECT * FROM public.crew\", con=connection)\n"
   ]
  },
  {
   "cell_type": "code",
   "execution_count": null,
   "metadata": {},
   "outputs": [],
   "source": [
    "rating_df = pd.read_sql(\"SELECT * FROM public.rating\", con=connection)\n"
   ]
  },
  {
   "cell_type": "markdown",
   "metadata": {},
   "source": [
    "### SELECT\n",
    "\n",
    "In SQL, the column selection is done using a comma-separated list of columns.\\\n",
    "In Pandas, we pass a list of column names to a DataFrame inside the `[]` operator."
   ]
  },
  {
   "cell_type": "code",
   "execution_count": null,
   "metadata": {},
   "outputs": [],
   "source": [
    "# In SQL:\n",
    "sql = \"\"\"\n",
    "SELECT id, official_title\n",
    "FROM public.movie\n",
    "\"\"\"\n",
    "\n",
    "# In Pandas:\n",
    "movie_df[[ \"official_title\"]]"
   ]
  },
  {
   "cell_type": "markdown",
   "metadata": {},
   "source": [
    "### SELECT DISTINCT\n",
    "\n",
    "In pandas, the equivalent of `SELECT DISTINCT` is `.drop_duplicates()`."
   ]
  },
  {
   "cell_type": "code",
   "execution_count": null,
   "metadata": {},
   "outputs": [],
   "source": [
    "# return all unique genres from the 'genre' table\n",
    "\n",
    "# In SQL:\n",
    "sql = \"\"\"\n",
    "SELECT DISTINCT genre\n",
    "FROM imdb.genre\n",
    "\"\"\"\n",
    "\n",
    "# In Pandas:\n",
    "\n",
    "genres_dinstinct=genres_df[\"genre\"].drop_duplicates()"
   ]
  },
  {
   "cell_type": "markdown",
   "metadata": {},
   "source": [
    "### *Select a computed column*\n",
    "\n",
    "In Pandas, use `.assign()` method to append a new column to the DataFrame. "
   ]
  },
  {
   "cell_type": "code",
   "execution_count": null,
   "metadata": {},
   "outputs": [],
   "source": [
    "sql = \"\"\"\n",
    "SELECT lenght/60 as length_in_hours\n",
    "FROM imdb.movie \n",
    "\"\"\"\n",
    "\n",
    "# In Pandas:\n",
    "movie_df=movie_df.assign(length_in_hours=movie_df.length / 60)\n",
    "#movie_df = movie_df.drop(columns=['length_in_hours'])"
   ]
  },
  {
   "cell_type": "markdown",
   "metadata": {},
   "source": [
    "### WHERE\n",
    "\n",
    "To filter rows in a DataFrame you have 2 options:\n",
    "\n",
    "- **Option 1**: Use *boolean indexing* to subset a DataFrame using a boolean vector.\\\n",
    "    This vector evaluates the `WHERE` condition on a given column.\n",
    "\n",
    "\n",
    "- **Option 2**: Use `.query()` to select rows of a DataFrame with a boolean expression (a string)."
   ]
  },
  {
   "cell_type": "code",
   "execution_count": null,
   "metadata": {},
   "outputs": [],
   "source": [
    "movie_df"
   ]
  },
  {
   "cell_type": "code",
   "execution_count": null,
   "metadata": {},
   "outputs": [],
   "source": [
    "# retrieve movies produced in '2010'\n",
    "\n",
    "# In SQL:\n",
    "sql = \"\"\"\n",
    "SELECT *\n",
    "FROM imdb.movie\n",
    "WHERE year = '2010'\n",
    "\"\"\"\n",
    "\n",
    "# In Pandas:\n",
    "\n",
    "# Option 1: use boolean vector to subset the dataframe\n",
    "condition = movie_df.year == '2010'\n",
    "movie_df[condition]\n",
    "\n",
    "# Option 2: use .query() method\n",
    "movie_df.query(\"year == '2010'\") "
   ]
  },
  {
   "cell_type": "markdown",
   "metadata": {},
   "source": [
    "** NOTE! **\n",
    "\n",
    "*Conditional filtering with NULL values* in Pandas is **DIFFERENT** from SQL behaviour:\n",
    "- In SQL, the WHERE condition is NOT evaluated on NULL values, which are excluded from the result\n",
    "- In Pandas, the condition is evaluated also for NULL values\n",
    "\n",
    "*Example:*"
   ]
  },
  {
   "cell_type": "code",
   "execution_count": null,
   "metadata": {},
   "outputs": [],
   "source": [
    "sql = \"\"\"\n",
    "SELECT *\n",
    "FROM public.movie\n",
    "WHERE year <> '2010' -- OR year IS NULL\n",
    "\"\"\"\n",
    "\n",
    "# In SQL:\n",
    "print(len(pd.read_sql(sql, con=connection)))\n",
    "\n",
    "# In Pandas:\n",
    "condition = movie_df[\"year\"]!='2010'\n",
    "print(len(movie_df[condition]))"
   ]
  },
  {
   "cell_type": "markdown",
   "metadata": {},
   "source": [
    "*Combine multiple conditions using `&` and `|`.\\\n",
    "Use brackets to specify the precedence of evaluation among and/or operators.*"
   ]
  },
  {
   "cell_type": "code",
   "execution_count": null,
   "metadata": {},
   "outputs": [],
   "source": [
    "# retrieve the movies from 2010 lasting more than an hour\n",
    "\n",
    "# In SQL:\n",
    "sql = \"\"\"\n",
    "SELECT *\n",
    "FROM imdb.movie\n",
    "WHERE year = '2010' AND length > 60\n",
    "\"\"\"\n",
    "# In Pandas:\n",
    "\n",
    "# option 1. boolean indexing\n",
    "\"\"\"condition_1 = (movie_df.year == 2010)\n",
    "condition_2 = (movie_df.length > 60)\n",
    "movie_df[condition_1 & condition_2] \"\"\"\n",
    "\n",
    "# option 2. query expression\n",
    "movie_df.query(\"year == '2010' & length > 60\") "
   ]
  },
  {
   "cell_type": "code",
   "execution_count": null,
   "metadata": {},
   "outputs": [],
   "source": [
    "# get the movies where the year is between 2000 and 2010 or that lasts between 60 and 120 minutes\n",
    "\n",
    "# In SQL:\n",
    "sql = \"\"\"\n",
    "SELECT *\n",
    "FROM public.movie\n",
    "WHERE year BETWEEN '2000' AND '2010' AND length BETWEEN 60 and 120\n",
    "\"\"\"\n",
    "\n",
    "# In Pandas:\n",
    "\n",
    "# option 1. boolean indexing\n",
    "condition_1 = ('2000' <= movie_df[\"year\"]) & (movie_df[\"year\"] <= '2010')\n",
    "condition_2 = (60 <= movie_df.length) & (movie_df.length <= 120)\n",
    "movie_df[condition_1 & condition_2]\n",
    "\n",
    "# option 2. query expression\n",
    "movie_df.query(\"'2000' <= year <= '2010' and 60 <= length <= 120\")"
   ]
  },
  {
   "cell_type": "markdown",
   "metadata": {},
   "source": [
    "#### `IS NULL` & `IS NOT NULL`\n",
    "NULL checking is done using the `.notna()` and `.isna()` methods."
   ]
  },
  {
   "cell_type": "code",
   "execution_count": null,
   "metadata": {},
   "outputs": [],
   "source": [
    "person_df"
   ]
  },
  {
   "cell_type": "code",
   "execution_count": null,
   "metadata": {},
   "outputs": [],
   "source": [
    "# return the cast members that are alive\n",
    "\n",
    "# In SQL:\n",
    "\"\"\"\n",
    "SELECT *\n",
    "FROM imdb.person \n",
    "WHERE death_date IS NULL\n",
    "\"\"\"\n",
    "\n",
    "# In Pandas:\n",
    "condition = person_df[\"death_date\"].isna()\n",
    "len(person_df[condition])\n",
    "\n"
   ]
  },
  {
   "cell_type": "code",
   "execution_count": null,
   "metadata": {},
   "outputs": [],
   "source": [
    "# return the cast members that are dead\n",
    "\n",
    "# In SQL:\n",
    "\n",
    "\"\"\"\n",
    "SELECT * \n",
    "FROM imdb.person \n",
    "WHERE death_date IS NOT NULL\n",
    "\"\"\"\n",
    "condition = person_df[\"death_date\"].notna()\n",
    "len(person_df[condition])"
   ]
  },
  {
   "cell_type": "markdown",
   "metadata": {},
   "source": [
    "#### `IN` & `NOT IN`\n",
    "\n",
    "The equivalent of the SQL `IN` operator in pandas can be achieved using the `.isin()` method."
   ]
  },
  {
   "cell_type": "code",
   "execution_count": null,
   "metadata": {},
   "outputs": [],
   "source": [
    "# retrieve movies produced in one of the following years: '2000', '2010' or '2020'.\n",
    "\n",
    "# In SQL:\n",
    "sql = \"\"\"\n",
    "SELECT * \n",
    "FROM public.movie \n",
    "WHERE year IN ('2000', '2010', '2020')\n",
    "\"\"\"\n",
    "print(len(pd.read_sql(sql, con=connection)))\n",
    "\n",
    "# In Pandas:\n",
    "\n",
    "# checks if the row value is one of ['2000', '2010', '2020'] \n",
    "condition = movie_df[\"year\"].isin(['2000', '2010', '2020'])\n",
    "\n",
    "# subset the rows where the condition evaluate to True.\n",
    "print(len(movie_df[condition]))"
   ]
  },
  {
   "cell_type": "code",
   "execution_count": null,
   "metadata": {},
   "outputs": [],
   "source": [
    "#q=movie_df.query(\"year in ['2000', '2010', '2020']\")\n"
   ]
  },
  {
   "cell_type": "code",
   "execution_count": null,
   "metadata": {},
   "outputs": [],
   "source": [
    "# retrieve movies that are NOT produced in one of the following years: '2000', '2010' or '2020'. \n",
    "# Include movies without year in the result set.\n",
    "\n",
    "# In SQL:\n",
    "sql = \"\"\"\n",
    "SELECT * \n",
    "FROM public.movie \n",
    "WHERE year NOT IN ('2000', '2010', '2020')  --OR year IS NULL\n",
    "\"\"\"\n",
    "print(len(pd.read_sql(sql, con=connection)))\n",
    "\n",
    "# In Pandas:\n",
    "\n",
    "# checks if the row value is one of ['2000', '2010', '2020'] \n",
    "condition = movie_df[\"year\"].isin(['2000', '2010', '2020'])\n",
    "\n",
    "# subset rows where NOT the condition evaluate to True.\n",
    "print(len(movie_df[~condition]))"
   ]
  },
  {
   "cell_type": "code",
   "execution_count": null,
   "metadata": {},
   "outputs": [],
   "source": [
    "q=movie_df.query(\"year not in ['2000','2010','2020'] \")\n",
    "q"
   ]
  },
  {
   "cell_type": "markdown",
   "metadata": {},
   "source": [
    "#### Column manipulation\n",
    "\n",
    "\n",
    "Pandas provides several ways to apply a function to perform transformations on a column.\n",
    "\n",
    "1. *Using `.apply(FUNCTION)` on a Series (column)*:\n",
    "    - The method applies a function to each element in a Series in a loop-like manner (iterating row-by-row),\\\n",
    "        which is generally slow because it breaks pandas' internal optimizations.\n",
    "    - You can use either a pre-defined function or a lambda function with `.apply()`\n",
    "\n",
    "2. *vectorized operations*:\n",
    "    - are optimized to work on the entire Series (column) at once, applying the operation in parallel across all elements.\\\n",
    "     This makes it much faster and more efficient than applying the operation row-by-row.\n",
    "\n",
    "\n",
    "\n",
    "When working with pandas Series (columns) that contain strings, and you need to perform string manipulations (like splitting, replacing, converting case, extraction, etc)\\\n",
    "use pandas' vectorized string methods. How? via the string accessor `.str`.\\\n",
    "With `.str` you can apply various string methods across entire columns efficiently, without needing to loop through each element.\n"
   ]
  },
  {
   "cell_type": "code",
   "execution_count": null,
   "metadata": {},
   "outputs": [],
   "source": [
    "# retrieve info about the movie with the title 'happy family'. Use case insensitive search.\n",
    "\n",
    "# In SQL:\n",
    "sql = \"\"\"\n",
    "SELECT * \n",
    "FROM public.movie \n",
    "WHERE LOWER(official_title) = 'happy family'\n",
    "\"\"\"\n",
    "\n",
    "# In Pandas:\n",
    "\n",
    "# Option 1: use vectorized str accessor to lowercase the whole column at once\n",
    "condition = movie_df[\"official_title\"].str.lower() == 'happy family'\n",
    "movie_df[condition]\n",
    "\n",
    "# Option 2: use .apply() method with a custom function to iterate over rows and apply the function element-wise.\n",
    "condition = movie_df[\"official_title\"].apply(lambda title: title.lower()) == 'happy family'\n",
    "movie_df[condition]"
   ]
  },
  {
   "cell_type": "code",
   "execution_count": null,
   "metadata": {},
   "outputs": [],
   "source": [
    "# retrieve movies about 'family' using LIKE operator\n",
    "# wildcards of LIKE:\n",
    "# %: this wildcard represents any string of any length\n",
    "# _: this wildcard represents a string of exactly one character\n",
    "\n",
    "# In SQL:\n",
    "sql = \"\"\"\n",
    "SELECT *\n",
    "FROM public.movie\n",
    "WHERE LOWER(official_title) LIKE '%family%'\n",
    "\"\"\"\n",
    "\n",
    "# In Pandas:\n",
    "condition = movie_df[\"official_title\"].str.lower().str.contains(\"family\")\n",
    "movie_df[condition]"
   ]
  },
  {
   "cell_type": "markdown",
   "metadata": {},
   "source": [
    "\n",
    "**Common String Methods Available via `.str`**:"
   ]
  },
  {
   "cell_type": "code",
   "execution_count": null,
   "metadata": {},
   "outputs": [],
   "source": [
    "# 1. Converting Case\n",
    "\n",
    "person_df['given_name'].str.lower()    # Converts to lowercase\n",
    "person_df['given_name'].str.upper()    # Converts to uppercase\n",
    "\n",
    "\n",
    "# 2. Checking for Substrings\n",
    "\n",
    "person_df['given_name'].str.contains('Levy')      # Checks if 'Levy' is in the string.\n",
    "person_df['given_name'].str.startswith('Benn')    # Checks if string start with a specific prefix.\n",
    "\n",
    "\n",
    "# 3. Manipulating Substrings\n",
    "\n",
    "person_df['given_name'].str.strip()                                         # Remove leading and trailing whitespace\n",
    "person_df['given_name'].str.split(' ')                                      # Split by space\n",
    "person_df['given_name'].str.slice(0, 4)                                     # Slice first 4 characters\n",
    "\n",
    "person_df['given_name'].str.len()                                            # Get the length of each string\n",
    "person_df['given_name'].str.replace('Michelle', 'Mike')                      # Replace 'Michelle' with 'Mike'\n",
    "person_df['given_name'].str.cat(person_df['birth_date'].astype(str), sep=' ')   # Concatenate given name and yob\n",
    "\n",
    "\n",
    "# 4. Extracting Information from strings\n",
    "\n",
    "person_df['bio'].str.extract(r'(\\d{4}) ')   # Extract the first occurence of the pattern in the string\n",
    "person_df['bio'].str.findall(r'(\\d{4}) ')   # Extract the list with all occurences of the pattern in the string"
   ]
  },
  {
   "cell_type": "markdown",
   "metadata": {},
   "source": [
    "#### Example Use Cases:"
   ]
  },
  {
   "cell_type": "code",
   "execution_count": null,
   "metadata": {},
   "outputs": [],
   "source": [
    "person_df.head(3)"
   ]
  },
  {
   "cell_type": "markdown",
   "metadata": {},
   "source": [
    "**Standardizing Text**: You may have columns with inconsistent case or extra spaces that need cleaning."
   ]
  },
  {
   "cell_type": "code",
   "execution_count": null,
   "metadata": {},
   "outputs": [],
   "source": [
    "# Trim leading and training spaces and lowercase\n",
    "\n",
    "person_df['given_name'].str.strip().str.lower()  "
   ]
  },
  {
   "cell_type": "code",
   "execution_count": null,
   "metadata": {},
   "outputs": [],
   "source": [
    "person_df"
   ]
  },
  {
   "cell_type": "markdown",
   "metadata": {},
   "source": [
    "**Splitting the column in two**"
   ]
  },
  {
   "cell_type": "code",
   "execution_count": null,
   "metadata": {},
   "outputs": [],
   "source": [
    "# Split the given name into 2 separate columns: name and surname\n",
    "\n",
    "person_df.assign(\n",
    "    surname=person_df[\"given_name\"].str.split(\" \").str[-1], \n",
    "    name=person_df[\"given_name\"].str.split(\" \").str[0]\n",
    "    )"
   ]
  },
  {
   "cell_type": "markdown",
   "metadata": {},
   "source": [
    "**Extracting information:** extract the year from the date"
   ]
  },
  {
   "cell_type": "code",
   "execution_count": null,
   "metadata": {},
   "outputs": [],
   "source": [
    "# create a new column that contains a year of birth\n",
    "# extract the year from the \"birth_date\"\n",
    "\n",
    "# extract the year via slicing\n",
    "yob = person_df[\"birth_date\"].astype(str).str.slice(0, 4)\n",
    "\n",
    "\n",
    "person = person_df.assign(yob=yob) # or person[\"yob\"] = yob\n"
   ]
  },
  {
   "cell_type": "code",
   "execution_count": null,
   "metadata": {},
   "outputs": [],
   "source": [
    "person"
   ]
  },
  {
   "cell_type": "markdown",
   "metadata": {},
   "source": [
    "### `ORDER BY`\n",
    "\n",
    "The equivalent of SQL `ORDER BY` in Pandas is `.sort_values()`"
   ]
  },
  {
   "cell_type": "code",
   "execution_count": null,
   "metadata": {},
   "outputs": [],
   "source": [
    "vojimir.ranitovic@unimi.it"
   ]
  },
  {
   "cell_type": "code",
   "execution_count": null,
   "metadata": {},
   "outputs": [],
   "source": [
    "# return the given_name and birth_date of all alive people\n",
    "# and sort them by birth_date (ascending order) and given_name (descending order) \n",
    "\n",
    "# In SQL:\n",
    "sql = \"\"\"\n",
    "SELECT given_name, birth_date\n",
    "FROM imdb.person\n",
    "WHERE death_date IS NULL\n",
    "ORDER BY birth_date ASC, given_name DESC\n",
    "\"\"\"\n",
    "\n",
    "# In Pandas:\n",
    "alive_person = person_df[person_df.death_date.isna()]\n",
    "alive_person.sort_values(by=[\"birth_date\", \"given_name\"], ascending=[False, False])"
   ]
  },
  {
   "cell_type": "markdown",
   "metadata": {},
   "source": [
    "## `JOIN`\n",
    "\n",
    "JOINs can be performed with `.merge`(left, right, how, on, left_on, right_on, left_index, right_index, suffixes).\n",
    "\n",
    "1. `left` and `right`:\n",
    "\n",
    "    These refer to the two DataFrames that you want to merge.\\\n",
    "    In SQL, these correspond to the two tables being joined.\n",
    "\n",
    "2. `how`:\n",
    "\n",
    "    Specifies the type of join to perform. It accepts the following values:\n",
    "    - `inner` (default): Only rows with matching values on the specified columns (like SQL INNER JOIN).\n",
    "    - `left`: All rows from the left DataFrame, and matching rows from the right DataFrame (like SQL LEFT JOIN).\n",
    "    - `right`: All rows from the right DataFrame, and matching rows from the left DataFrame (like SQL RIGHT JOIN).\n",
    "    - `outer`: All rows from both DataFrames, with NaN where no match is found (like SQL FULL OUTER JOIN).\n",
    "    - `cross`: Returns a cartesian product, returning all possible combination of rows from two DataFrames.\n",
    "\n",
    "3. `on`:\n",
    "\n",
    "    Specifies the common column or index to join on. This column should be present in both DataFrames.\\\n",
    "    In SQL, you specify  the columns from both tables in the ON condition\n",
    "\n",
    "4. `left_on` and `right_on`:\n",
    "\n",
    "    These specify the column names to join on when the column names differ between the DataFrames.\n",
    "\n",
    "5. `left_index` and `right_index`:\n",
    "    If True, the merge will use the index from the left or right DataFrame as the join key instead of columns.\\\n",
    "    In SQL, this is equivalent to joining tables on their primary key, but without having a named column for it.\n",
    "\n",
    "6. `suffixes`:\n",
    "    When merging two DataFrames with overlapping column names, Pandas automatically adds suffixes (_x, _y) to distinguish them.\\\n",
    "    You can customize these suffixes using this argument, by passing a squence of two strings to add to column names.\\\n",
    "    SQL doesn’t automatically add suffixes, so you typically alias the columns in your query to avoid naming conflicts."
   ]
  },
  {
   "attachments": {
    "image.png": {
     "image/png": "[encoded data removed]"
    }
   },
   "cell_type": "markdown",
   "metadata": {},
   "source": [
    "![image.png](attachment:image.png)"
   ]
  },
  {
   "cell_type": "code",
   "execution_count": null,
   "metadata": {},
   "outputs": [],
   "source": [
    "sql = \"\"\"\n",
    "SELECT official_title\n",
    "FROM public.movie INNER JOIN public.produced ON movie.id = produced.movie\n",
    "WHERE country = 'IRL'\n",
    "\"\"\"\n",
    "pd.read_sql(sql, con=connection)"
   ]
  },
  {
   "cell_type": "code",
   "execution_count": null,
   "metadata": {},
   "outputs": [],
   "source": [
    "# get the official_title of Irish movies \n",
    "\n",
    "# In SQL:\n",
    "sql = \"\"\"\n",
    "SELECT official_title\n",
    "FROM public.movie INNER JOIN public.produced ON movie.id = produced.movie\n",
    "WHERE country = 'IRL'\n",
    "\"\"\"\n",
    "pd.read_sql(sql, con=connection)\n",
    "\n",
    "# In Pandas\n",
    "\n",
    "#where_condition = \"country == 'IRL'\"\n",
    "\"\"\"pd\\\n",
    "    .merge(movie_df, produced_df, how='inner', left_on='id', right_on='movie')\\\n",
    "    .query(where_condition)[\"official_title\"]\"\"\""
   ]
  },
  {
   "cell_type": "code",
   "execution_count": null,
   "metadata": {},
   "outputs": [],
   "source": [
    "# get the countries where 'Crime' movies are produced\n",
    "\n",
    "sql = \"\"\"  \n",
    "SELECT DISTINCT country, genre\n",
    "FROM public.genre AS genre \n",
    "inner join public.produced as country ON genre.movie = country.movie\n",
    "WHERE genre = 'Crime'\n",
    "\"\"\"\n",
    "\n",
    "print(len(pd.read_sql(sql, con=connection)))\n",
    "\n"
   ]
  },
  {
   "cell_type": "code",
   "execution_count": null,
   "metadata": {},
   "outputs": [],
   "source": [
    "print(len(pd\\\n",
    "    .merge(genres_df, produced_df, how=\"inner\", on=\"movie\")\\\n",
    "    .query(\"genre == 'Crime'\")\\\n",
    "    [\"country\"].drop_duplicates()))"
   ]
  },
  {
   "cell_type": "code",
   "execution_count": null,
   "metadata": {},
   "outputs": [],
   "source": [
    "# get the title of movies starring 'Anne Hathaway'\n",
    "\n",
    "# In SQL:\n",
    "\n",
    "# using multiple joins\n",
    "sql = \"\"\"  \n",
    "SELECT official_title, year, plot\n",
    "FROM imdb.person INNER JOIN imdb.crew c ON person.id = crew.movie\n",
    "INNER JOIN imdb.movie ON crew.movie = movie.id\n",
    "WHERE given_name = 'Anne Hathaway'\n",
    "\"\"\"\n",
    "pd.read_sql(sql, con=connection)\n",
    "\n",
    "# In Pandas:\n",
    "pd.merge(person_df, crew_df, how=\"inner\", left_on=\"id\", right_on=\"person\")\\\n",
    "    .merge(movie_df, how=\"inner\", left_on=\"movie\", right_on=\"id\", suffixes=[\"_person\", \"_movie\"])\\\n",
    "    .query(\"given_name == 'Anne Hathaway'\")[\"official_title\"]\n",
    "\n",
    "\n",
    "\n",
    "# using CTE\n",
    "sql = \"\"\"\n",
    "\n",
    "WITH hathaway_movies AS (\n",
    "    SELECT movie \n",
    "    FROM imdb.person INNER JOIN imdb.crew ON person.id = crew.person\n",
    "    WHERE given_name = 'Anne Hathaway' \n",
    "    )\n",
    "    \n",
    "SELECT official_title\n",
    "FROM imdb.movie INNER JOIN hathaway_movies ON id = movie\n",
    "\"\"\"\n",
    "\n",
    "# equivalent to CTE\n",
    "movies_with_anne = pd.merge(crew_df, person_df, how='inner', left_on=\"person\", right_on='id').query(\"given_name == 'Anne Hathaway'\")\n",
    "pd.merge(movie_df, movies_with_anne, how='inner', left_on=\"id\", right_on='movie', suffixes=[\"_movie\", \"_person\"])"
   ]
  },
  {
   "cell_type": "code",
   "execution_count": null,
   "metadata": {},
   "outputs": [],
   "source": [
    "# get the ids of top 10 ranking Horror movies\n",
    "\n",
    "# In SQL\n",
    "sql = \"\"\"  \n",
    "\n",
    "WITH horror_movies AS (\n",
    "    SELECT movie \n",
    "    FROM public.genre \n",
    "    WHERE genre = 'Horror'\n",
    ")\n",
    "\n",
    "SELECT horror_movies.movie\n",
    "FROM horror_movies INNER JOIN public.rating ON horror_movies.movie = rating.movie\n",
    "\"\"\"\n",
    "pd.read_sql(sql, con=connection)\n",
    "\n",
    "\n",
    "# In Pandas:\n",
    "\n",
    "# 1. get the ids of horror movies\n",
    "horror_movies = genres_df.query(\"genre == 'Horror'\")[\"movie\"]\n",
    "\n",
    "# 2. get the scores for these movies, sort and get the top 10\n",
    "top10_horrors = pd.merge(horror_movies, rating_df, how=\"inner\", on=\"movie\").sort_values(\"score\", ascending=False)[:10][\"movie\"]\n",
    "top10_horrors"
   ]
  },
  {
   "cell_type": "code",
   "execution_count": null,
   "metadata": {},
   "outputs": [],
   "source": [
    "# get the title of movies produced in one of the following countries: 'AUS', 'GBR' or 'IRL'.\n",
    "\n",
    "# In SQL:\n",
    "sql = \"\"\" \n",
    "SELECT official_title, country\n",
    "FROM imdb.movie \n",
    "INNER JOIN imdb.produced ON id = movie\n",
    "WHERE country IN ('AUS', 'GBR', 'IRL')\n",
    "\"\"\"\n",
    "print(len(pd.read_sql(sql, con=connection)))\n",
    "\n",
    "\n",
    "# In Pandas:\n",
    "\n",
    "# 1. merge two dataframes\n",
    "merged_df = pd.merge(movie_df, produced_df, how=\"inner\", left_on=\"id\", right_on=\"movie\")\n",
    "\n",
    "# 2. specify a condition on the country column\n",
    "condition = merged_df[\"country\"].isin(('AUS', 'GBR', 'IRL'))\n",
    "\n",
    "# 3. subset the merged dataframe\n",
    "merged_df[condition][[\"official_title\", \"country\"]]"
   ]
  },
  {
   "cell_type": "markdown",
   "metadata": {},
   "source": [
    "## <center>Set operations</center>"
   ]
  },
  {
   "cell_type": "markdown",
   "metadata": {},
   "source": [
    "### INTERSECT"
   ]
  },
  {
   "cell_type": "code",
   "execution_count": null,
   "metadata": {},
   "outputs": [],
   "source": [
    "# get movies produced in both USA and FRA\n",
    "\n",
    "# In SQL:\n",
    "\n",
    "# using set operation INTERSECT\n",
    "sql = \"\"\"\n",
    "SELECT movie\n",
    "from imdb.produced \n",
    "where country = 'USA'\n",
    "\n",
    "INTERSECT\n",
    "\n",
    "SELECT movie\n",
    "from imdb.produced \n",
    "where country = 'FRA'\n",
    "\"\"\"\n",
    "\n",
    "# using self-join of the table produced\n",
    "sql = \"\"\"\n",
    "SELECT p1.movie\n",
    "FROM imdb.produced AS usa INNER JOIN imdb.produced AS fra ON usa.movie = fra.movie \n",
    "WHERE p1.country = 'USA' AND p2.country = 'FRA'\n",
    "\"\"\"\n",
    "\n",
    "# using nested query\n",
    "sql = \"\"\"  \n",
    "SELECT movie\n",
    "FROM imdb.produced\n",
    "WHERE country = 'USA' AND movie IN (\n",
    "    SELECT movie\n",
    "    FROM imdb.produced\n",
    "    WHERE country = 'FRA')\n",
    "\"\"\"\n",
    "\n",
    "# using CTE\n",
    "sql = \"\"\"\n",
    "WITH usa_movies AS (\n",
    "    SELECT movie\n",
    "    FROM imdb.produced\n",
    "    WHERE country = 'USA'\n",
    "),\n",
    "    fra_movies AS (\n",
    "    SELECT movie\n",
    "    FROM imdb.produced\n",
    "    WHERE country = 'FRA')\n",
    "\n",
    "SELECT usa.movie\n",
    "FROM usa_movies AS usa INNER JOIN fra_movies as fra ON usa.movie = fra.movie\n",
    "\"\"\"\n",
    "\n",
    "pd.read_sql(sql, con=connection)"
   ]
  },
  {
   "cell_type": "markdown",
   "metadata": {},
   "source": [
    "In pandas, there is no method implementing INTERSECT operation. Joins between tables can be exploited instead."
   ]
  },
  {
   "cell_type": "code",
   "execution_count": null,
   "metadata": {},
   "outputs": [],
   "source": [
    "# In Pandas:\n",
    "\n",
    "# 1. get movies produced in USA\n",
    "movies_usa = movie_df.query('country == \"USA\"')[[\"movie\", \"official_title\"]]\n",
    "\n",
    "# 2. get movies produced in FRA\n",
    "movies_fra = movie_df.query('country == \"FRA\"')[[\"movie\", \"official_title\"]]\n",
    "\n",
    "# 3.merge two dataframes (equivalennt to the SQL CTE)\n",
    "pd.merge(movies_usa, movies_fra, on='movie')\n",
    "\n",
    "# 3. an alternative solution via isin(): \n",
    "movies_usa[movies_usa[\"movie\"].isin(movies_fra[\"movie\"])]"
   ]
  },
  {
   "cell_type": "markdown",
   "metadata": {},
   "source": [
    "Also include the title! (JOIN is needed)"
   ]
  },
  {
   "cell_type": "code",
   "execution_count": null,
   "metadata": {},
   "outputs": [],
   "source": [
    "\n",
    "# 1. get movies produced in USA\n",
    "movies_usa = pd.merge(movie_df, produced_df, how='inner', left_on='id', right_on='movie').query('country == \"USA\"')[[\"movie\", \"official_title\"]]\n",
    "\n",
    "# 2. get movies produced in FRA\n",
    "movies_fra = pd.merge(movie_df, produced_df, how='inner', left_on='id', right_on='movie').query('country == \"FRA\"')[[\"movie\", \"official_title\"]]\n",
    "\n",
    "# 3.merge two dataframes (equivalennt to the SQL CTE)\n",
    "pd.merge(movies_usa, movies_fra, on='movie')\n",
    "\n",
    "# 3. an alternative solution via isin(): \n",
    "movies_usa[movies_usa[\"movie\"].isin(movies_fra[\"movie\"])]"
   ]
  },
  {
   "cell_type": "code",
   "execution_count": null,
   "metadata": {},
   "outputs": [],
   "source": [
    "# return movies starring Matthew McConaughey as BOTH actor and producer\n",
    "\n",
    "# In SQL:\n",
    "\n",
    "# using set operation INTERSECT\n",
    "sql = \"\"\"\n",
    "\n",
    "-- get movies where Matthew McConaughey is an actor\n",
    "SELECT movie\n",
    "FROM imdb.crew INNER JOIN imdb.person ON crew.person = person.id\n",
    "WHERE given_name = 'Matthew McConaughey' AND p_role = 'actor'\n",
    "\n",
    "INTERSECT\n",
    "\n",
    "-- get movies where Matthew McConaughey is a producer\n",
    "SELECT movie\n",
    "FROM imdb.crew INNER JOIN imdb.person ON crew.person = person.id\n",
    "WHERE given_name = 'Matthew McConaughey' AND p_role = 'producer'\n",
    "\"\"\"\n",
    "\n",
    "# using nested query\n",
    "sql = \"\"\"  \n",
    "SELECT movie\n",
    "FROM imdb.crew INNER JOIN imdb.person ON crew.person = person.id\n",
    "WHERE given_name = 'Matthew McConaughey' AND p_role = 'actor' AND movie IN (\n",
    "    SELECT movie\n",
    "    FROM imdb.crew INNER JOIN imdb.person ON crew.person = person.id\n",
    "    WHERE given_name = 'Matthew McConaughey' AND p_role = 'producer'\n",
    ")\n",
    "\"\"\"\n",
    "\n",
    "# using self-join of the table crew\n",
    "sql = \"\"\"\n",
    "SELECT g1.movie\n",
    "FROM imdb.crew c1 \n",
    "INNER JOIN imdb.crew c2 ON c1.person = c2.person\n",
    "INNER JOIN imdb.person p1 ON c1.person = p1.id\n",
    "INNER JOIN imdb.person p2 ON c2.person = p2.id\n",
    "WHERE p1.given_name = 'Matthew McConaughey' AND c1.p_role = 'actor'\n",
    "AND p2.given_name = 'Matthew McConaughey' AND c2.p_role = 'producer' \n",
    "\"\"\"\n",
    "\n",
    "pd.read_sql(sql, con=connection)"
   ]
  },
  {
   "cell_type": "code",
   "execution_count": null,
   "metadata": {},
   "outputs": [],
   "source": [
    "# In Pandas:\n",
    "\n",
    "# 1. get the ids of movies where McConaughey is an 'actor'\n",
    "as_actor = pd.merge(crew_df, person_df, how='inner', left_on='person', right_on='id').query(\"given_name == 'Matthew McConaughey' and p_role == 'actor'\")[\"movie\"]\n",
    "\n",
    "# 2. get the ids of movies where McConaughey is a 'producer'\n",
    "as_producer = pd.merge(crew_df, person_df, how='inner', left_on='person', right_on='id').query(\"given_name == 'Matthew McConaughey' and p_role == 'producer'\")[\"movie\"]\n",
    "\n",
    "# 3. Keep only the horror movies that appear among thrillers \n",
    "pd.merge(as_actor, as_producer, how=\"inner\", on=\"movie\")"
   ]
  },
  {
   "cell_type": "markdown",
   "metadata": {},
   "source": [
    "### EXCEPT"
   ]
  },
  {
   "cell_type": "code",
   "execution_count": null,
   "metadata": {},
   "outputs": [],
   "source": [
    "# return movies without rating\n",
    "\n",
    "# In SQL:\n",
    "\n",
    "# using EXCEPT operator\n",
    "sql = \"\"\"\n",
    "SELECT id\n",
    "FROM imdb.movie\n",
    "EXCEPT\n",
    "SELECT movie \n",
    "FROM imdb.rating\n",
    "\"\"\"\n",
    "\n",
    "# using nested query\n",
    "sql = \"\"\"\n",
    "SELECT id\n",
    "FROM imdb.movie \n",
    "WHERE id NOT IN (\n",
    "    SELECT movie \n",
    "    FROM imdb.rating\n",
    "    )\n",
    "\"\"\"\n",
    "\n",
    "# using LEFT JOIN\n",
    "sql = \"\"\"\n",
    "SELECT id\n",
    "FROM imdb.movie \n",
    "LEFT JOIN imdb.rating ON movie.id = rating.movie\n",
    "WHERE rating.movie IS NULL;\n",
    "\"\"\"\n",
    "\n",
    "len(pd.read_sql(sql, con=connection))"
   ]
  },
  {
   "cell_type": "markdown",
   "metadata": {},
   "source": [
    "In Pandas, there is no specific method for the EXCEPT operation.\\\n",
    "An equivalent effect can be achieved by negating the condition that uses `isin()` operator."
   ]
  },
  {
   "cell_type": "code",
   "execution_count": null,
   "metadata": {},
   "outputs": [],
   "source": [
    "# In Pandas:\n",
    "\n",
    "# 1. get the ids of all movies with rating, \n",
    "# simply take the movie column from the rating table\n",
    "movies_with_rating = rating_df[\"movie\"]\n",
    "\n",
    "# 2. for each id in the movie table, check if the movie id appears in the rating table\n",
    "is_rated = movie_df[\"id\"].isin(movies_with_rating)\n",
    "\n",
    "# 3. use the above condition to subset the movie table, only selecting rows where the condition is True\n",
    "movie_df[is_rated]\n",
    "\n",
    "# 4. negate the condition using ~, so that 'movie id IS IN the rating table' becomes 'movie id IS NOT IN the rating table' \n",
    "movie_df[~is_rated]"
   ]
  },
  {
   "cell_type": "code",
   "execution_count": null,
   "metadata": {},
   "outputs": [],
   "source": [
    "# return movies that are not Thriller: \n",
    "# the condition does not refer to a single row, but to a movie, which may have several rows associated\n",
    "# Reasoning: you do NOT want to filter out rows that have the value 'Thriller', but rather movies that have 'Thriller' as one of their genres.\n",
    "# Therefore, the condition cannot be verified at the level of a single record.\n",
    "# Instead, it should be verified at the level of a block of rows referring to the same movie.\n",
    "# movie can have more genres\n",
    "# In SQL:\n",
    "\n",
    "# using set operation EXCEPT\n",
    "sql = \"\"\" \n",
    "-- get all movies\n",
    "SELECT id\n",
    "FROM imdb.movie \n",
    "\n",
    "EXCEPT\n",
    "\n",
    "-- get 'Thriller' movies\n",
    "SELECT movie\n",
    "FROM imdb.genre\n",
    "WHERE genre = 'Thriller'\n",
    "\"\"\"\n",
    "\n",
    "# using nested query\n",
    "sql = \"\"\" \n",
    "-- get all movies\n",
    "SELECT id\n",
    "FROM imdb.movie \n",
    "\n",
    "-- get the complementary set of 'Thriller' movies\n",
    "WHERE id NOT IN (\n",
    "    -- get the ids of 'Thriller' movies\n",
    "    SELECT movie \n",
    "    FROM imdb.genre\n",
    "    WHERE genre = 'Thriller'\n",
    "    )\n",
    "\"\"\"\n",
    "len(pd.read_sql(sql, con=connection))\n",
    "\n",
    "\n",
    "# In Pandas:\n",
    "\n",
    "# 1. get the ids of 'Thriller' movies\n",
    "ids_of_thrillers = genres_df[genres_df[\"genre\"] == 'Thriller'][\"movie\"]\n",
    "\n",
    "# 2. for each id in the movie table, check if the movie id appear among 'Thriller' ids\n",
    "is_thriller = movie_df[\"id\"].isin(ids_of_thrillers)\n",
    "\n",
    "# 3. get the complementary set of the 'Thriller' movies, using the above condition\n",
    "len(movie_df[~is_thriller])"
   ]
  },
  {
   "cell_type": "markdown",
   "metadata": {},
   "source": [
    "### `UNION` & `UNION ALL` (keeps duplicates)\n",
    "\n",
    "In pandas, use `concat()` to perform an equivalent to SQL `UNION ALL` operation. The result keeps duplicate rows. \\\n",
    "`concat()` in  conjunction with `drop_duplicates()` with produce an equivalent to SQL `UNION`, removing duplicate rows from the result set."
   ]
  },
  {
   "cell_type": "code",
   "execution_count": null,
   "metadata": {},
   "outputs": [],
   "source": [
    "# get movies produced in Australia or those never rated lower than 8.5\n",
    "# movie can have multiple ratings!\n",
    "# In SQL:\n",
    "\n",
    "# using set operations\n",
    "sql = \"\"\" \n",
    "-- get movies produced in Australia\n",
    "SELECT movie\n",
    "FROM imdb.produced \n",
    "WHERE country = 'AUS' \n",
    "UNION\n",
    "(\n",
    "    -- taking all rated movies\n",
    "    SELECT movie\n",
    "    FROM imdb.rating \n",
    "\n",
    "    -- excluding movies rated below 8.5\n",
    "    EXCEPT \n",
    "    SELECT movie \n",
    "    FROM imdb.rating\n",
    "    WHERE score <= 8.5\n",
    ")\n",
    "\"\"\"\n",
    "\n",
    "# using nested query\n",
    "sql = \"\"\" \n",
    "-- get movies produced in Australia\n",
    "SELECT movie\n",
    "FROM imdb.produced \n",
    "WHERE country = 'AUS' \n",
    "UNION \n",
    "\n",
    "-- get the complementary set to low-rating movies\n",
    "SELECT movie\n",
    "FROM imdb.rating \n",
    "WHERE movie NOT IN (\n",
    "\n",
    "    -- get movies with low rating\n",
    "    SELECT movie \n",
    "    FROM imdb.rating\n",
    "    WHERE score <= 8.5\n",
    "    )\n",
    "\"\"\"\n",
    "\n",
    "\n",
    "pd.read_sql(sql, con=connection)\n",
    "\n",
    "# In Pandas\n",
    "\n",
    "# 1. get movies produced in Australia\n",
    "australian_movies = produced_df.query(\"country == 'AUS'\")\n",
    "\n",
    "# 2. get movies with low rating\n",
    "low_rating_movies = rating_df[rating_df[\"score\"]<= 8.5][\"movie\"]\n",
    "\n",
    "# 3. get the complementary to low-rating movies\n",
    "high_rating_movies = rating_df[~rating_df[\"movie\"].isin(low_rating_movies)]\n",
    "\n",
    "pd.concat([australian_movies, high_rating_movies]).drop_duplicates()"
   ]
  },
  {
   "cell_type": "markdown",
   "metadata": {},
   "source": [
    "### Aggregations\n",
    "\n",
    "Aggregation in pandas is done by computing columns based on an aggregate function: MIN, MAX, AVG, SUM, COUNT"
   ]
  },
  {
   "cell_type": "code",
   "execution_count": null,
   "metadata": {},
   "outputs": [],
   "source": [
    "movie_df.length.min()        # MIN\n",
    "movie_df.length.max()        # MAX\n",
    "movie_df.length.mean()       # AVG\n",
    "movie_df.length.sum()        # SUM\n",
    "movie_df.length.count()      # COUNT NOT NULL\n",
    "movie_df.length.nunique()    # COUNT DISTINCT"
   ]
  },
  {
   "cell_type": "code",
   "execution_count": null,
   "metadata": {},
   "outputs": [],
   "source": [
    "# return the length of the longest movie in the database\n",
    "\n",
    "# In SQL:\n",
    "sql = \"\"\"\n",
    "SELECT max(length)\n",
    "FROM public.movie\n",
    "\"\"\"\n",
    "print(pd.read_sql(sql, con=connection))\n",
    "\n",
    "# In Pandas:\n",
    "movie_df.length.max()"
   ]
  },
  {
   "cell_type": "markdown",
   "metadata": {},
   "source": [
    "Aggregates are used in nested queries"
   ]
  },
  {
   "cell_type": "code",
   "execution_count": null,
   "metadata": {},
   "outputs": [],
   "source": [
    "# return the longest movie in the database\n",
    "# returning the movie with the max length is different from returning the value of the max length ! \n",
    "# you need to use nested query to obtain the correct result\n",
    "\n",
    "# In SQL:\n",
    "sql = \"\"\"\n",
    "SELECT *\n",
    "FROM imdb.movie\n",
    "WHERE length = (\n",
    "    SELECT MAX(length)\n",
    "    FROM imdb.movie\n",
    "    )\n",
    "\"\"\"\n",
    "print(pd.read_sql(sql, con=connection))\n",
    "\n",
    "# In Pandas:\n",
    "max_length = movie_df[\"length\"].max()\n",
    "movie_df[movie_df[\"length\"] == max_length]"
   ]
  },
  {
   "cell_type": "code",
   "execution_count": null,
   "metadata": {},
   "outputs": [],
   "source": [
    "# retrieve the oldest movie\n",
    "\n",
    "sql = \"\"\"\n",
    "SELECT * FROM imdb.movie \n",
    "WHERE year = (SELECT MIN(year) FROM imdb.movie)\n",
    "\"\"\"\n",
    "pd.read_sql(sql, con=connection)\n",
    "\n",
    "# In Pandas:\n",
    "# first cast the column 'year' to a float, otherwise you get an error when evaluating the min \n",
    "movie_df[\"year\"] = movie_df[\"year\"].astype(float)\n",
    "movie_df[movie_df[\"year\"] == movie_df[\"year\"].min()]"
   ]
  },
  {
   "cell_type": "markdown",
   "metadata": {},
   "source": [
    "### GROUP BY\n",
    "\n",
    "In pandas, SQL’s GROUP BY operations are performed using the `groupby()` method.\n"
   ]
  },
  {
   "cell_type": "code",
   "execution_count": null,
   "metadata": {},
   "outputs": [],
   "source": [
    "# grouping rows by a single column\n",
    "produced_df.groupby(\"country\")\n",
    "\n",
    "# grouping by multiple columns\n",
    "crew_df.groupby([\"movie\", \"p_role\"])"
   ]
  },
  {
   "cell_type": "code",
   "execution_count": 203,
   "metadata": {},
   "outputs": [
    {
     "data": {
      "text/plain": [
       "<pandas.core.groupby.generic.DataFrameGroupBy object at 0x00000242F1F8C500>"
      ]
     },
     "execution_count": 203,
     "metadata": {},
     "output_type": "execute_result"
    }
   ],
   "source": [
    "crew_df.groupby([\"movie\", \"p_role\"])\n"
   ]
  },
  {
   "cell_type": "markdown",
   "metadata": {},
   "source": [
    "** NOTE! **\n",
    "\n",
    "Differently from SQL, in Pandas `NA` values are excluded from group keys during the groupby operation. To include them, set `dropna` = False."
   ]
  },
  {
   "cell_type": "code",
   "execution_count": 207,
   "metadata": {},
   "outputs": [
    {
     "data": {
      "text/plain": [
       "<pandas.core.groupby.generic.DataFrameGroupBy object at 0x00000242F639B890>"
      ]
     },
     "execution_count": 207,
     "metadata": {},
     "output_type": "execute_result"
    }
   ],
   "source": [
    "produced_df.groupby(\"country\", dropna=False)"
   ]
  },
  {
   "cell_type": "markdown",
   "metadata": {},
   "source": [
    "\n",
    "*Inspecting grouped dataframe*"
   ]
  },
  {
   "cell_type": "code",
   "execution_count": 208,
   "metadata": {},
   "outputs": [
    {
     "data": {
      "text/plain": [
       "{'ARE': [96, 139], 'AUS': [74, 161], 'AUT': [56], 'BRA': [251], 'CAN': [11, 17, 69, 103, 125, 128, 194, 203], 'CHE': [248], 'CHN': [14, 57, 89, 91, 99, 124, 142, 182, 193, 219], 'COG': [63], 'DEU': [58, 85, 134, 236], 'ESP': [111, 215, 218], 'FRA': [1, 5, 192, 228, 235, 240, 243, 246, 254, 257, 267, 269, 276], 'GBR': [0, 3, 8, 10, 13, 18, 19, 22, 53, 62, 64, 84, 164, 189, 199, 201, 247, 275], 'GTM': [129], 'HKG': [54, 71, 92], 'IND': [59, 132, 135, 140, 145, 148, 153], 'IRL': [2, 258], 'ISL': [12], 'ITA': [234, 237, 238, 239, 241, 242, 244, 245, 249, 250, 253, 255, 256, 259, 260, 261, 262, 263, 264, 265, 266, 268, 270, 271, 272, 273, 274], 'JPN': [29, 100], 'NLD': [4], 'NZL': [119, 151], 'USA': [6, 7, 9, 15, 16, 20, 21, 23, 24, 25, 26, 27, 28, 30, 31, 32, 33, 34, 35, 36, 37, 38, 39, 40, 41, 42, 43, 44, 45, 46, 47, 48, 49, 50, 51, 52, 55, 60, 61, 65, 66, 67, 68, 70, 72, 73, 75, 76, 77, 78, 79, 80, 81, 82, 83, 86, 87, 88, 90, 93, 94, 95, 97, 98, 101, 102, 104, 105, 106, 107, 108, 109, 110, 112, 113, 114, 115, 116, 117, 118, 120, 121, 122, 123, 126, 127, 130, 131, 133, 136, 137, 138, 141, 143, 144, 146, 147, 149, 150, 152, ...]}"
      ]
     },
     "execution_count": 208,
     "metadata": {},
     "output_type": "execute_result"
    }
   ],
   "source": [
    "# Use `.groups` attibute to returns a dictionary, where\n",
    "# keys are the unique groups and values are the elements belonging to each group.\n",
    "\n",
    "produced_df.groupby(\"country\").groups"
   ]
  },
  {
   "cell_type": "code",
   "execution_count": 209,
   "metadata": {},
   "outputs": [
    {
     "data": {
      "application/vnd.microsoft.datawrangler.viewer.v0+json": {
       "columns": [
        {
         "name": "index",
         "rawType": "int64",
         "type": "integer"
        },
        {
         "name": "movie",
         "rawType": "object",
         "type": "string"
        },
        {
         "name": "country",
         "rawType": "object",
         "type": "string"
        }
       ],
       "ref": "fcc88e18-d544-43f3-a50f-3e2ebee670fd",
       "rows": [
        [
         "74",
         "1343092",
         "AUS"
        ],
        [
         "161",
         "0374463",
         "AUS"
        ]
       ],
       "shape": {
        "columns": 2,
        "rows": 2
       }
      },
      "text/html": [
       "<div>\n",
       "<style scoped>\n",
       "    .dataframe tbody tr th:only-of-type {\n",
       "        vertical-align: middle;\n",
       "    }\n",
       "\n",
       "    .dataframe tbody tr th {\n",
       "        vertical-align: top;\n",
       "    }\n",
       "\n",
       "    .dataframe thead th {\n",
       "        text-align: right;\n",
       "    }\n",
       "</style>\n",
       "<table border=\"1\" class=\"dataframe\">\n",
       "  <thead>\n",
       "    <tr style=\"text-align: right;\">\n",
       "      <th></th>\n",
       "      <th>movie</th>\n",
       "      <th>country</th>\n",
       "    </tr>\n",
       "  </thead>\n",
       "  <tbody>\n",
       "    <tr>\n",
       "      <th>74</th>\n",
       "      <td>1343092</td>\n",
       "      <td>AUS</td>\n",
       "    </tr>\n",
       "    <tr>\n",
       "      <th>161</th>\n",
       "      <td>0374463</td>\n",
       "      <td>AUS</td>\n",
       "    </tr>\n",
       "  </tbody>\n",
       "</table>\n",
       "</div>"
      ],
      "text/plain": [
       "       movie country\n",
       "74   1343092     AUS\n",
       "161  0374463     AUS"
      ]
     },
     "execution_count": 209,
     "metadata": {},
     "output_type": "execute_result"
    }
   ],
   "source": [
    "# select a group by key\n",
    "produced_df.groupby(\"country\").get_group(\"AUS\")"
   ]
  },
  {
   "cell_type": "markdown",
   "metadata": {},
   "source": [
    "### Grouped Aggregations\n"
   ]
  },
  {
   "cell_type": "markdown",
   "metadata": {},
   "source": [
    "Use `.agg()` method to apply any reduction function to all columns."
   ]
  },
  {
   "cell_type": "code",
   "execution_count": 210,
   "metadata": {},
   "outputs": [
    {
     "data": {
      "application/vnd.microsoft.datawrangler.viewer.v0+json": {
       "columns": [
        {
         "name": "movie",
         "rawType": "object",
         "type": "string"
        },
        {
         "name": "person",
         "rawType": "int64",
         "type": "integer"
        },
        {
         "name": "p_role",
         "rawType": "int64",
         "type": "integer"
        },
        {
         "name": "character",
         "rawType": "int64",
         "type": "integer"
        }
       ],
       "ref": "7c72d4fc-2019-4e03-9cbb-d3c7220f3c3c",
       "rows": [
        [
         "0069049",
         "22",
         "22",
         "11"
        ],
        [
         "0365907",
         "85",
         "85",
         "65"
        ],
        [
         "0369610",
         "215",
         "215",
         "208"
        ],
        [
         "0374463",
         "33",
         "33",
         "14"
        ],
        [
         "0384580",
         "4",
         "4",
         "0"
        ],
        [
         "0409847",
         "69",
         "69",
         "52"
        ],
        [
         "0433035",
         "169",
         "169",
         "160"
        ],
        [
         "0443272",
         "173",
         "173",
         "169"
        ],
        [
         "0770828",
         "120",
         "120",
         "113"
        ],
        [
         "0790636",
         "91",
         "91",
         "77"
        ],
        [
         "0790724",
         "106",
         "106",
         "96"
        ],
        [
         "0816692",
         "57",
         "57",
         "35"
        ],
        [
         "0983193",
         "19",
         "19",
         "12"
        ],
        [
         "0993846",
         "310",
         "310",
         "297"
        ],
        [
         "1013743",
         "93",
         "93",
         "87"
        ],
        [
         "1029360",
         "20",
         "20",
         "13"
        ],
        [
         "1032763",
         "41",
         "41",
         "30"
        ],
        [
         "1037226",
         "1",
         "1",
         "1"
        ],
        [
         "1092026",
         "50",
         "50",
         "43"
        ],
        [
         "1123441",
         "6",
         "6",
         "0"
        ],
        [
         "1124035",
         "118",
         "118",
         "104"
        ],
        [
         "1124037",
         "190",
         "190",
         "164"
        ],
        [
         "1130884",
         "58",
         "58",
         "50"
        ],
        [
         "1185416",
         "83",
         "83",
         "71"
        ],
        [
         "1189340",
         "67",
         "67",
         "58"
        ],
        [
         "1194417",
         "74",
         "74",
         "62"
        ],
        [
         "1206543",
         "93",
         "93",
         "70"
        ],
        [
         "1212419",
         "67",
         "67",
         "64"
        ],
        [
         "1229238",
         "52",
         "52",
         "34"
        ],
        [
         "1285016",
         "170",
         "170",
         "166"
        ],
        [
         "1336608",
         "239",
         "239",
         "220"
        ],
        [
         "1343092",
         "131",
         "131",
         "125"
        ],
        [
         "1345836",
         "347",
         "347",
         "339"
        ],
        [
         "1356864",
         "35",
         "35",
         "25"
        ],
        [
         "1375666",
         "77",
         "77",
         "65"
        ],
        [
         "1381505",
         "56",
         "56",
         "34"
        ],
        [
         "1399103",
         "143",
         "143",
         "133"
        ],
        [
         "1403865",
         "42",
         "42",
         "39"
        ],
        [
         "1409024",
         "181",
         "181",
         "175"
        ],
        [
         "1440345",
         "73",
         "73",
         "56"
        ],
        [
         "1442054",
         "3",
         "3",
         "0"
        ],
        [
         "1455810",
         "22",
         "22",
         "19"
        ],
        [
         "1456472",
         "37",
         "37",
         "28"
        ],
        [
         "1456606",
         "73",
         "73",
         "38"
        ],
        [
         "1482459",
         "19",
         "19",
         "12"
        ],
        [
         "1483013",
         "43",
         "43",
         "28"
        ],
        [
         "1486185",
         "46",
         "46",
         "39"
        ],
        [
         "1496422",
         "49",
         "49",
         "38"
        ],
        [
         "1499658",
         "48",
         "48",
         "37"
        ],
        [
         "1535109",
         "74",
         "74",
         "66"
        ]
       ],
       "shape": {
        "columns": 3,
        "rows": 209
       }
      },
      "text/html": [
       "<div>\n",
       "<style scoped>\n",
       "    .dataframe tbody tr th:only-of-type {\n",
       "        vertical-align: middle;\n",
       "    }\n",
       "\n",
       "    .dataframe tbody tr th {\n",
       "        vertical-align: top;\n",
       "    }\n",
       "\n",
       "    .dataframe thead th {\n",
       "        text-align: right;\n",
       "    }\n",
       "</style>\n",
       "<table border=\"1\" class=\"dataframe\">\n",
       "  <thead>\n",
       "    <tr style=\"text-align: right;\">\n",
       "      <th></th>\n",
       "      <th>person</th>\n",
       "      <th>p_role</th>\n",
       "      <th>character</th>\n",
       "    </tr>\n",
       "    <tr>\n",
       "      <th>movie</th>\n",
       "      <th></th>\n",
       "      <th></th>\n",
       "      <th></th>\n",
       "    </tr>\n",
       "  </thead>\n",
       "  <tbody>\n",
       "    <tr>\n",
       "      <th>0069049</th>\n",
       "      <td>22</td>\n",
       "      <td>22</td>\n",
       "      <td>11</td>\n",
       "    </tr>\n",
       "    <tr>\n",
       "      <th>0365907</th>\n",
       "      <td>85</td>\n",
       "      <td>85</td>\n",
       "      <td>65</td>\n",
       "    </tr>\n",
       "    <tr>\n",
       "      <th>0369610</th>\n",
       "      <td>215</td>\n",
       "      <td>215</td>\n",
       "      <td>208</td>\n",
       "    </tr>\n",
       "    <tr>\n",
       "      <th>0374463</th>\n",
       "      <td>33</td>\n",
       "      <td>33</td>\n",
       "      <td>14</td>\n",
       "    </tr>\n",
       "    <tr>\n",
       "      <th>0384580</th>\n",
       "      <td>4</td>\n",
       "      <td>4</td>\n",
       "      <td>0</td>\n",
       "    </tr>\n",
       "    <tr>\n",
       "      <th>...</th>\n",
       "      <td>...</td>\n",
       "      <td>...</td>\n",
       "      <td>...</td>\n",
       "    </tr>\n",
       "    <tr>\n",
       "      <th>7131622</th>\n",
       "      <td>1</td>\n",
       "      <td>1</td>\n",
       "      <td>0</td>\n",
       "    </tr>\n",
       "    <tr>\n",
       "      <th>7221090</th>\n",
       "      <td>12</td>\n",
       "      <td>12</td>\n",
       "      <td>10</td>\n",
       "    </tr>\n",
       "    <tr>\n",
       "      <th>7293754</th>\n",
       "      <td>11</td>\n",
       "      <td>11</td>\n",
       "      <td>0</td>\n",
       "    </tr>\n",
       "    <tr>\n",
       "      <th>7407340</th>\n",
       "      <td>2</td>\n",
       "      <td>2</td>\n",
       "      <td>0</td>\n",
       "    </tr>\n",
       "    <tr>\n",
       "      <th>7428530</th>\n",
       "      <td>6</td>\n",
       "      <td>6</td>\n",
       "      <td>1</td>\n",
       "    </tr>\n",
       "  </tbody>\n",
       "</table>\n",
       "<p>209 rows × 3 columns</p>\n",
       "</div>"
      ],
      "text/plain": [
       "         person  p_role  character\n",
       "movie                             \n",
       "0069049      22      22         11\n",
       "0365907      85      85         65\n",
       "0369610     215     215        208\n",
       "0374463      33      33         14\n",
       "0384580       4       4          0\n",
       "...         ...     ...        ...\n",
       "7131622       1       1          0\n",
       "7221090      12      12         10\n",
       "7293754      11      11          0\n",
       "7407340       2       2          0\n",
       "7428530       6       6          1\n",
       "\n",
       "[209 rows x 3 columns]"
      ]
     },
     "execution_count": 210,
     "metadata": {},
     "output_type": "execute_result"
    }
   ],
   "source": [
    "# using .agg() method that accepts any reduction method as a string \n",
    "crew_df.groupby(\"movie\").agg(\"count\")"
   ]
  },
  {
   "cell_type": "markdown",
   "metadata": {},
   "source": [
    "*Apply multiple reduction functions to all columns*."
   ]
  },
  {
   "cell_type": "code",
   "execution_count": 219,
   "metadata": {},
   "outputs": [
    {
     "data": {
      "application/vnd.microsoft.datawrangler.viewer.v0+json": {
       "columns": [
        {
         "name": "movie",
         "rawType": "object",
         "type": "string"
        },
        {
         "name": "('person', 'size')",
         "rawType": "int64",
         "type": "integer"
        },
        {
         "name": "('person', 'count')",
         "rawType": "int64",
         "type": "integer"
        },
        {
         "name": "('person', 'nunique')",
         "rawType": "int64",
         "type": "integer"
        },
        {
         "name": "('p_role', 'size')",
         "rawType": "int64",
         "type": "integer"
        },
        {
         "name": "('p_role', 'count')",
         "rawType": "int64",
         "type": "integer"
        },
        {
         "name": "('p_role', 'nunique')",
         "rawType": "int64",
         "type": "integer"
        },
        {
         "name": "('character', 'size')",
         "rawType": "int64",
         "type": "integer"
        },
        {
         "name": "('character', 'count')",
         "rawType": "int64",
         "type": "integer"
        },
        {
         "name": "('character', 'nunique')",
         "rawType": "int64",
         "type": "integer"
        }
       ],
       "ref": "f3fea61a-ffb0-4ec9-b1ca-24e5cf12b43e",
       "rows": [
        [
         "0069049",
         "22",
         "22",
         "21",
         "22",
         "22",
         "3",
         "22",
         "11",
         "10"
        ],
        [
         "0365907",
         "85",
         "85",
         "85",
         "85",
         "85",
         "2",
         "85",
         "65",
         "60"
        ],
        [
         "0369610",
         "215",
         "215",
         "213",
         "215",
         "215",
         "4",
         "215",
         "208",
         "120"
        ],
        [
         "0374463",
         "33",
         "33",
         "31",
         "33",
         "33",
         "4",
         "33",
         "14",
         "13"
        ],
        [
         "0384580",
         "4",
         "4",
         "3",
         "4",
         "4",
         "2",
         "4",
         "0",
         "0"
        ],
        [
         "0409847",
         "69",
         "69",
         "66",
         "69",
         "69",
         "3",
         "69",
         "52",
         "40"
        ],
        [
         "0433035",
         "169",
         "169",
         "168",
         "169",
         "169",
         "3",
         "169",
         "160",
         "103"
        ],
        [
         "0443272",
         "173",
         "173",
         "173",
         "173",
         "173",
         "2",
         "173",
         "169",
         "113"
        ],
        [
         "0770828",
         "120",
         "120",
         "119",
         "120",
         "120",
         "3",
         "120",
         "113",
         "78"
        ],
        [
         "0790636",
         "91",
         "91",
         "90",
         "91",
         "91",
         "3",
         "91",
         "77",
         "69"
        ],
        [
         "0790724",
         "106",
         "106",
         "105",
         "106",
         "106",
         "4",
         "106",
         "96",
         "73"
        ],
        [
         "0816692",
         "57",
         "57",
         "55",
         "57",
         "57",
         "4",
         "57",
         "35",
         "32"
        ],
        [
         "0983193",
         "19",
         "19",
         "19",
         "19",
         "19",
         "3",
         "19",
         "12",
         "12"
        ],
        [
         "0993846",
         "310",
         "310",
         "308",
         "310",
         "310",
         "2",
         "310",
         "297",
         "213"
        ],
        [
         "1013743",
         "93",
         "93",
         "93",
         "93",
         "93",
         "3",
         "93",
         "87",
         "77"
        ],
        [
         "1029360",
         "20",
         "20",
         "20",
         "20",
         "20",
         "4",
         "20",
         "13",
         "13"
        ],
        [
         "1032763",
         "41",
         "41",
         "38",
         "41",
         "41",
         "4",
         "41",
         "30",
         "30"
        ],
        [
         "1037226",
         "1",
         "1",
         "1",
         "1",
         "1",
         "1",
         "1",
         "1",
         "1"
        ],
        [
         "1092026",
         "50",
         "50",
         "48",
         "50",
         "50",
         "3",
         "50",
         "43",
         "40"
        ],
        [
         "1123441",
         "6",
         "6",
         "5",
         "6",
         "6",
         "2",
         "6",
         "0",
         "0"
        ],
        [
         "1124035",
         "118",
         "118",
         "117",
         "118",
         "118",
         "3",
         "118",
         "104",
         "69"
        ],
        [
         "1124037",
         "190",
         "190",
         "189",
         "190",
         "190",
         "3",
         "190",
         "164",
         "118"
        ],
        [
         "1130884",
         "58",
         "58",
         "57",
         "58",
         "58",
         "2",
         "58",
         "50",
         "39"
        ],
        [
         "1185416",
         "83",
         "83",
         "83",
         "83",
         "83",
         "3",
         "83",
         "71",
         "57"
        ],
        [
         "1189340",
         "67",
         "67",
         "67",
         "67",
         "67",
         "4",
         "67",
         "58",
         "52"
        ],
        [
         "1194417",
         "74",
         "74",
         "73",
         "74",
         "74",
         "3",
         "74",
         "62",
         "61"
        ],
        [
         "1206543",
         "93",
         "93",
         "92",
         "93",
         "93",
         "4",
         "93",
         "70",
         "52"
        ],
        [
         "1212419",
         "67",
         "67",
         "67",
         "67",
         "67",
         "2",
         "67",
         "64",
         "57"
        ],
        [
         "1229238",
         "52",
         "52",
         "50",
         "52",
         "52",
         "3",
         "52",
         "34",
         "28"
        ],
        [
         "1285016",
         "170",
         "170",
         "170",
         "170",
         "170",
         "2",
         "170",
         "166",
         "103"
        ],
        [
         "1336608",
         "239",
         "239",
         "237",
         "239",
         "239",
         "3",
         "239",
         "220",
         "113"
        ],
        [
         "1343092",
         "131",
         "131",
         "131",
         "131",
         "131",
         "3",
         "131",
         "125",
         "86"
        ],
        [
         "1345836",
         "347",
         "347",
         "344",
         "347",
         "347",
         "4",
         "347",
         "339",
         "182"
        ],
        [
         "1356864",
         "35",
         "35",
         "28",
         "35",
         "35",
         "4",
         "35",
         "25",
         "25"
        ],
        [
         "1375666",
         "77",
         "77",
         "75",
         "77",
         "77",
         "4",
         "77",
         "65",
         "45"
        ],
        [
         "1381505",
         "56",
         "56",
         "55",
         "56",
         "56",
         "4",
         "56",
         "34",
         "33"
        ],
        [
         "1399103",
         "143",
         "143",
         "143",
         "143",
         "143",
         "3",
         "143",
         "133",
         "108"
        ],
        [
         "1403865",
         "42",
         "42",
         "42",
         "42",
         "42",
         "2",
         "42",
         "39",
         "37"
        ],
        [
         "1409024",
         "181",
         "181",
         "181",
         "181",
         "181",
         "3",
         "181",
         "175",
         "151"
        ],
        [
         "1440345",
         "73",
         "73",
         "72",
         "73",
         "73",
         "4",
         "73",
         "56",
         "55"
        ],
        [
         "1442054",
         "3",
         "3",
         "3",
         "3",
         "3",
         "2",
         "3",
         "0",
         "0"
        ],
        [
         "1455810",
         "22",
         "22",
         "21",
         "22",
         "22",
         "3",
         "22",
         "19",
         "19"
        ],
        [
         "1456472",
         "37",
         "37",
         "37",
         "37",
         "37",
         "3",
         "37",
         "28",
         "17"
        ],
        [
         "1456606",
         "73",
         "73",
         "68",
         "73",
         "73",
         "4",
         "73",
         "38",
         "38"
        ],
        [
         "1482459",
         "19",
         "19",
         "17",
         "19",
         "19",
         "4",
         "19",
         "12",
         "12"
        ],
        [
         "1483013",
         "43",
         "43",
         "41",
         "43",
         "43",
         "4",
         "43",
         "28",
         "17"
        ],
        [
         "1486185",
         "46",
         "46",
         "46",
         "46",
         "46",
         "3",
         "46",
         "39",
         "27"
        ],
        [
         "1496422",
         "49",
         "49",
         "49",
         "49",
         "49",
         "3",
         "49",
         "38",
         "38"
        ],
        [
         "1499658",
         "48",
         "48",
         "46",
         "48",
         "48",
         "4",
         "48",
         "37",
         "31"
        ],
        [
         "1535109",
         "74",
         "74",
         "74",
         "74",
         "74",
         "3",
         "74",
         "66",
         "36"
        ]
       ],
       "shape": {
        "columns": 9,
        "rows": 209
       }
      },
      "text/html": [
       "<div>\n",
       "<style scoped>\n",
       "    .dataframe tbody tr th:only-of-type {\n",
       "        vertical-align: middle;\n",
       "    }\n",
       "\n",
       "    .dataframe tbody tr th {\n",
       "        vertical-align: top;\n",
       "    }\n",
       "\n",
       "    .dataframe thead tr th {\n",
       "        text-align: left;\n",
       "    }\n",
       "\n",
       "    .dataframe thead tr:last-of-type th {\n",
       "        text-align: right;\n",
       "    }\n",
       "</style>\n",
       "<table border=\"1\" class=\"dataframe\">\n",
       "  <thead>\n",
       "    <tr>\n",
       "      <th></th>\n",
       "      <th colspan=\"3\" halign=\"left\">person</th>\n",
       "      <th colspan=\"3\" halign=\"left\">p_role</th>\n",
       "      <th colspan=\"3\" halign=\"left\">character</th>\n",
       "    </tr>\n",
       "    <tr>\n",
       "      <th></th>\n",
       "      <th>size</th>\n",
       "      <th>count</th>\n",
       "      <th>nunique</th>\n",
       "      <th>size</th>\n",
       "      <th>count</th>\n",
       "      <th>nunique</th>\n",
       "      <th>size</th>\n",
       "      <th>count</th>\n",
       "      <th>nunique</th>\n",
       "    </tr>\n",
       "    <tr>\n",
       "      <th>movie</th>\n",
       "      <th></th>\n",
       "      <th></th>\n",
       "      <th></th>\n",
       "      <th></th>\n",
       "      <th></th>\n",
       "      <th></th>\n",
       "      <th></th>\n",
       "      <th></th>\n",
       "      <th></th>\n",
       "    </tr>\n",
       "  </thead>\n",
       "  <tbody>\n",
       "    <tr>\n",
       "      <th>0069049</th>\n",
       "      <td>22</td>\n",
       "      <td>22</td>\n",
       "      <td>21</td>\n",
       "      <td>22</td>\n",
       "      <td>22</td>\n",
       "      <td>3</td>\n",
       "      <td>22</td>\n",
       "      <td>11</td>\n",
       "      <td>10</td>\n",
       "    </tr>\n",
       "    <tr>\n",
       "      <th>0365907</th>\n",
       "      <td>85</td>\n",
       "      <td>85</td>\n",
       "      <td>85</td>\n",
       "      <td>85</td>\n",
       "      <td>85</td>\n",
       "      <td>2</td>\n",
       "      <td>85</td>\n",
       "      <td>65</td>\n",
       "      <td>60</td>\n",
       "    </tr>\n",
       "    <tr>\n",
       "      <th>0369610</th>\n",
       "      <td>215</td>\n",
       "      <td>215</td>\n",
       "      <td>213</td>\n",
       "      <td>215</td>\n",
       "      <td>215</td>\n",
       "      <td>4</td>\n",
       "      <td>215</td>\n",
       "      <td>208</td>\n",
       "      <td>120</td>\n",
       "    </tr>\n",
       "    <tr>\n",
       "      <th>0374463</th>\n",
       "      <td>33</td>\n",
       "      <td>33</td>\n",
       "      <td>31</td>\n",
       "      <td>33</td>\n",
       "      <td>33</td>\n",
       "      <td>4</td>\n",
       "      <td>33</td>\n",
       "      <td>14</td>\n",
       "      <td>13</td>\n",
       "    </tr>\n",
       "    <tr>\n",
       "      <th>0384580</th>\n",
       "      <td>4</td>\n",
       "      <td>4</td>\n",
       "      <td>3</td>\n",
       "      <td>4</td>\n",
       "      <td>4</td>\n",
       "      <td>2</td>\n",
       "      <td>4</td>\n",
       "      <td>0</td>\n",
       "      <td>0</td>\n",
       "    </tr>\n",
       "    <tr>\n",
       "      <th>...</th>\n",
       "      <td>...</td>\n",
       "      <td>...</td>\n",
       "      <td>...</td>\n",
       "      <td>...</td>\n",
       "      <td>...</td>\n",
       "      <td>...</td>\n",
       "      <td>...</td>\n",
       "      <td>...</td>\n",
       "      <td>...</td>\n",
       "    </tr>\n",
       "    <tr>\n",
       "      <th>7131622</th>\n",
       "      <td>1</td>\n",
       "      <td>1</td>\n",
       "      <td>1</td>\n",
       "      <td>1</td>\n",
       "      <td>1</td>\n",
       "      <td>1</td>\n",
       "      <td>1</td>\n",
       "      <td>0</td>\n",
       "      <td>0</td>\n",
       "    </tr>\n",
       "    <tr>\n",
       "      <th>7221090</th>\n",
       "      <td>12</td>\n",
       "      <td>12</td>\n",
       "      <td>12</td>\n",
       "      <td>12</td>\n",
       "      <td>12</td>\n",
       "      <td>2</td>\n",
       "      <td>12</td>\n",
       "      <td>10</td>\n",
       "      <td>10</td>\n",
       "    </tr>\n",
       "    <tr>\n",
       "      <th>7293754</th>\n",
       "      <td>11</td>\n",
       "      <td>11</td>\n",
       "      <td>10</td>\n",
       "      <td>11</td>\n",
       "      <td>11</td>\n",
       "      <td>2</td>\n",
       "      <td>11</td>\n",
       "      <td>0</td>\n",
       "      <td>0</td>\n",
       "    </tr>\n",
       "    <tr>\n",
       "      <th>7407340</th>\n",
       "      <td>2</td>\n",
       "      <td>2</td>\n",
       "      <td>2</td>\n",
       "      <td>2</td>\n",
       "      <td>2</td>\n",
       "      <td>2</td>\n",
       "      <td>2</td>\n",
       "      <td>0</td>\n",
       "      <td>0</td>\n",
       "    </tr>\n",
       "    <tr>\n",
       "      <th>7428530</th>\n",
       "      <td>6</td>\n",
       "      <td>6</td>\n",
       "      <td>5</td>\n",
       "      <td>6</td>\n",
       "      <td>6</td>\n",
       "      <td>3</td>\n",
       "      <td>6</td>\n",
       "      <td>1</td>\n",
       "      <td>1</td>\n",
       "    </tr>\n",
       "  </tbody>\n",
       "</table>\n",
       "<p>209 rows × 9 columns</p>\n",
       "</div>"
      ],
      "text/plain": [
       "        person               p_role               character              \n",
       "          size count nunique   size count nunique      size count nunique\n",
       "movie                                                                    \n",
       "0069049     22    22      21     22    22       3        22    11      10\n",
       "0365907     85    85      85     85    85       2        85    65      60\n",
       "0369610    215   215     213    215   215       4       215   208     120\n",
       "0374463     33    33      31     33    33       4        33    14      13\n",
       "0384580      4     4       3      4     4       2         4     0       0\n",
       "...        ...   ...     ...    ...   ...     ...       ...   ...     ...\n",
       "7131622      1     1       1      1     1       1         1     0       0\n",
       "7221090     12    12      12     12    12       2        12    10      10\n",
       "7293754     11    11      10     11    11       2        11     0       0\n",
       "7407340      2     2       2      2     2       2         2     0       0\n",
       "7428530      6     6       5      6     6       3         6     1       1\n",
       "\n",
       "[209 rows x 9 columns]"
      ]
     },
     "execution_count": 219,
     "metadata": {},
     "output_type": "execute_result"
    }
   ],
   "source": [
    "# using .agg() with a list to apply multiple reduction methods to all columns at once\n",
    "crew_df.groupby(\"movie\").agg([\"size\", \"count\", \"nunique\"])"
   ]
  },
  {
   "cell_type": "markdown",
   "metadata": {},
   "source": [
    "*Apply different reduction functions to different columns*."
   ]
  },
  {
   "cell_type": "code",
   "execution_count": 220,
   "metadata": {},
   "outputs": [
    {
     "data": {
      "application/vnd.microsoft.datawrangler.viewer.v0+json": {
       "columns": [
        {
         "name": "movie",
         "rawType": "object",
         "type": "string"
        },
        {
         "name": "person",
         "rawType": "int64",
         "type": "integer"
        },
        {
         "name": "p_role",
         "rawType": "int64",
         "type": "integer"
        }
       ],
       "ref": "4db70b77-a471-4149-8dd0-bd9e08016b91",
       "rows": [
        [
         "0069049",
         "21",
         "22"
        ],
        [
         "0365907",
         "85",
         "85"
        ],
        [
         "0369610",
         "213",
         "215"
        ],
        [
         "0374463",
         "31",
         "33"
        ],
        [
         "0384580",
         "3",
         "4"
        ],
        [
         "0409847",
         "66",
         "69"
        ],
        [
         "0433035",
         "168",
         "169"
        ],
        [
         "0443272",
         "173",
         "173"
        ],
        [
         "0770828",
         "119",
         "120"
        ],
        [
         "0790636",
         "90",
         "91"
        ],
        [
         "0790724",
         "105",
         "106"
        ],
        [
         "0816692",
         "55",
         "57"
        ],
        [
         "0983193",
         "19",
         "19"
        ],
        [
         "0993846",
         "308",
         "310"
        ],
        [
         "1013743",
         "93",
         "93"
        ],
        [
         "1029360",
         "20",
         "20"
        ],
        [
         "1032763",
         "38",
         "41"
        ],
        [
         "1037226",
         "1",
         "1"
        ],
        [
         "1092026",
         "48",
         "50"
        ],
        [
         "1123441",
         "5",
         "6"
        ],
        [
         "1124035",
         "117",
         "118"
        ],
        [
         "1124037",
         "189",
         "190"
        ],
        [
         "1130884",
         "57",
         "58"
        ],
        [
         "1185416",
         "83",
         "83"
        ],
        [
         "1189340",
         "67",
         "67"
        ],
        [
         "1194417",
         "73",
         "74"
        ],
        [
         "1206543",
         "92",
         "93"
        ],
        [
         "1212419",
         "67",
         "67"
        ],
        [
         "1229238",
         "50",
         "52"
        ],
        [
         "1285016",
         "170",
         "170"
        ],
        [
         "1336608",
         "237",
         "239"
        ],
        [
         "1343092",
         "131",
         "131"
        ],
        [
         "1345836",
         "344",
         "347"
        ],
        [
         "1356864",
         "28",
         "35"
        ],
        [
         "1375666",
         "75",
         "77"
        ],
        [
         "1381505",
         "55",
         "56"
        ],
        [
         "1399103",
         "143",
         "143"
        ],
        [
         "1403865",
         "42",
         "42"
        ],
        [
         "1409024",
         "181",
         "181"
        ],
        [
         "1440345",
         "72",
         "73"
        ],
        [
         "1442054",
         "3",
         "3"
        ],
        [
         "1455810",
         "21",
         "22"
        ],
        [
         "1456472",
         "37",
         "37"
        ],
        [
         "1456606",
         "68",
         "73"
        ],
        [
         "1482459",
         "17",
         "19"
        ],
        [
         "1483013",
         "41",
         "43"
        ],
        [
         "1486185",
         "46",
         "46"
        ],
        [
         "1496422",
         "49",
         "49"
        ],
        [
         "1499658",
         "46",
         "48"
        ],
        [
         "1535109",
         "74",
         "74"
        ]
       ],
       "shape": {
        "columns": 2,
        "rows": 209
       }
      },
      "text/html": [
       "<div>\n",
       "<style scoped>\n",
       "    .dataframe tbody tr th:only-of-type {\n",
       "        vertical-align: middle;\n",
       "    }\n",
       "\n",
       "    .dataframe tbody tr th {\n",
       "        vertical-align: top;\n",
       "    }\n",
       "\n",
       "    .dataframe thead th {\n",
       "        text-align: right;\n",
       "    }\n",
       "</style>\n",
       "<table border=\"1\" class=\"dataframe\">\n",
       "  <thead>\n",
       "    <tr style=\"text-align: right;\">\n",
       "      <th></th>\n",
       "      <th>person</th>\n",
       "      <th>p_role</th>\n",
       "    </tr>\n",
       "    <tr>\n",
       "      <th>movie</th>\n",
       "      <th></th>\n",
       "      <th></th>\n",
       "    </tr>\n",
       "  </thead>\n",
       "  <tbody>\n",
       "    <tr>\n",
       "      <th>0069049</th>\n",
       "      <td>21</td>\n",
       "      <td>22</td>\n",
       "    </tr>\n",
       "    <tr>\n",
       "      <th>0365907</th>\n",
       "      <td>85</td>\n",
       "      <td>85</td>\n",
       "    </tr>\n",
       "    <tr>\n",
       "      <th>0369610</th>\n",
       "      <td>213</td>\n",
       "      <td>215</td>\n",
       "    </tr>\n",
       "    <tr>\n",
       "      <th>0374463</th>\n",
       "      <td>31</td>\n",
       "      <td>33</td>\n",
       "    </tr>\n",
       "    <tr>\n",
       "      <th>0384580</th>\n",
       "      <td>3</td>\n",
       "      <td>4</td>\n",
       "    </tr>\n",
       "    <tr>\n",
       "      <th>...</th>\n",
       "      <td>...</td>\n",
       "      <td>...</td>\n",
       "    </tr>\n",
       "    <tr>\n",
       "      <th>7131622</th>\n",
       "      <td>1</td>\n",
       "      <td>1</td>\n",
       "    </tr>\n",
       "    <tr>\n",
       "      <th>7221090</th>\n",
       "      <td>12</td>\n",
       "      <td>12</td>\n",
       "    </tr>\n",
       "    <tr>\n",
       "      <th>7293754</th>\n",
       "      <td>10</td>\n",
       "      <td>11</td>\n",
       "    </tr>\n",
       "    <tr>\n",
       "      <th>7407340</th>\n",
       "      <td>2</td>\n",
       "      <td>2</td>\n",
       "    </tr>\n",
       "    <tr>\n",
       "      <th>7428530</th>\n",
       "      <td>5</td>\n",
       "      <td>6</td>\n",
       "    </tr>\n",
       "  </tbody>\n",
       "</table>\n",
       "<p>209 rows × 2 columns</p>\n",
       "</div>"
      ],
      "text/plain": [
       "         person  p_role\n",
       "movie                  \n",
       "0069049      21      22\n",
       "0365907      85      85\n",
       "0369610     213     215\n",
       "0374463      31      33\n",
       "0384580       3       4\n",
       "...         ...     ...\n",
       "7131622       1       1\n",
       "7221090      12      12\n",
       "7293754      10      11\n",
       "7407340       2       2\n",
       "7428530       5       6\n",
       "\n",
       "[209 rows x 2 columns]"
      ]
     },
     "execution_count": 220,
     "metadata": {},
     "output_type": "execute_result"
    }
   ],
   "source": [
    "# using .agg() with a dict to apply different reduction methods to different columns\n",
    "crew_df.groupby(\"movie\").agg({\"person\": \"nunique\", \"p_role\": 'size'})"
   ]
  },
  {
   "cell_type": "markdown",
   "metadata": {},
   "source": [
    "*Named aggregation with `.agg()`*"
   ]
  },
  {
   "cell_type": "code",
   "execution_count": 221,
   "metadata": {},
   "outputs": [
    {
     "data": {
      "application/vnd.microsoft.datawrangler.viewer.v0+json": {
       "columns": [
        {
         "name": "movie",
         "rawType": "object",
         "type": "string"
        },
        {
         "name": "unique_people",
         "rawType": "int64",
         "type": "integer"
        },
        {
         "name": "cast_size",
         "rawType": "int64",
         "type": "integer"
        }
       ],
       "ref": "b1eb5797-a525-4c29-9577-dc97d0636b37",
       "rows": [
        [
         "0069049",
         "21",
         "22"
        ],
        [
         "0365907",
         "85",
         "85"
        ],
        [
         "0369610",
         "213",
         "215"
        ],
        [
         "0374463",
         "31",
         "33"
        ],
        [
         "0384580",
         "3",
         "4"
        ],
        [
         "0409847",
         "66",
         "69"
        ],
        [
         "0433035",
         "168",
         "169"
        ],
        [
         "0443272",
         "173",
         "173"
        ],
        [
         "0770828",
         "119",
         "120"
        ],
        [
         "0790636",
         "90",
         "91"
        ],
        [
         "0790724",
         "105",
         "106"
        ],
        [
         "0816692",
         "55",
         "57"
        ],
        [
         "0983193",
         "19",
         "19"
        ],
        [
         "0993846",
         "308",
         "310"
        ],
        [
         "1013743",
         "93",
         "93"
        ],
        [
         "1029360",
         "20",
         "20"
        ],
        [
         "1032763",
         "38",
         "41"
        ],
        [
         "1037226",
         "1",
         "1"
        ],
        [
         "1092026",
         "48",
         "50"
        ],
        [
         "1123441",
         "5",
         "6"
        ],
        [
         "1124035",
         "117",
         "118"
        ],
        [
         "1124037",
         "189",
         "190"
        ],
        [
         "1130884",
         "57",
         "58"
        ],
        [
         "1185416",
         "83",
         "83"
        ],
        [
         "1189340",
         "67",
         "67"
        ],
        [
         "1194417",
         "73",
         "74"
        ],
        [
         "1206543",
         "92",
         "93"
        ],
        [
         "1212419",
         "67",
         "67"
        ],
        [
         "1229238",
         "50",
         "52"
        ],
        [
         "1285016",
         "170",
         "170"
        ],
        [
         "1336608",
         "237",
         "239"
        ],
        [
         "1343092",
         "131",
         "131"
        ],
        [
         "1345836",
         "344",
         "347"
        ],
        [
         "1356864",
         "28",
         "35"
        ],
        [
         "1375666",
         "75",
         "77"
        ],
        [
         "1381505",
         "55",
         "56"
        ],
        [
         "1399103",
         "143",
         "143"
        ],
        [
         "1403865",
         "42",
         "42"
        ],
        [
         "1409024",
         "181",
         "181"
        ],
        [
         "1440345",
         "72",
         "73"
        ],
        [
         "1442054",
         "3",
         "3"
        ],
        [
         "1455810",
         "21",
         "22"
        ],
        [
         "1456472",
         "37",
         "37"
        ],
        [
         "1456606",
         "68",
         "73"
        ],
        [
         "1482459",
         "17",
         "19"
        ],
        [
         "1483013",
         "41",
         "43"
        ],
        [
         "1486185",
         "46",
         "46"
        ],
        [
         "1496422",
         "49",
         "49"
        ],
        [
         "1499658",
         "46",
         "48"
        ],
        [
         "1535109",
         "74",
         "74"
        ]
       ],
       "shape": {
        "columns": 2,
        "rows": 209
       }
      },
      "text/html": [
       "<div>\n",
       "<style scoped>\n",
       "    .dataframe tbody tr th:only-of-type {\n",
       "        vertical-align: middle;\n",
       "    }\n",
       "\n",
       "    .dataframe tbody tr th {\n",
       "        vertical-align: top;\n",
       "    }\n",
       "\n",
       "    .dataframe thead th {\n",
       "        text-align: right;\n",
       "    }\n",
       "</style>\n",
       "<table border=\"1\" class=\"dataframe\">\n",
       "  <thead>\n",
       "    <tr style=\"text-align: right;\">\n",
       "      <th></th>\n",
       "      <th>unique_people</th>\n",
       "      <th>cast_size</th>\n",
       "    </tr>\n",
       "    <tr>\n",
       "      <th>movie</th>\n",
       "      <th></th>\n",
       "      <th></th>\n",
       "    </tr>\n",
       "  </thead>\n",
       "  <tbody>\n",
       "    <tr>\n",
       "      <th>0069049</th>\n",
       "      <td>21</td>\n",
       "      <td>22</td>\n",
       "    </tr>\n",
       "    <tr>\n",
       "      <th>0365907</th>\n",
       "      <td>85</td>\n",
       "      <td>85</td>\n",
       "    </tr>\n",
       "    <tr>\n",
       "      <th>0369610</th>\n",
       "      <td>213</td>\n",
       "      <td>215</td>\n",
       "    </tr>\n",
       "    <tr>\n",
       "      <th>0374463</th>\n",
       "      <td>31</td>\n",
       "      <td>33</td>\n",
       "    </tr>\n",
       "    <tr>\n",
       "      <th>0384580</th>\n",
       "      <td>3</td>\n",
       "      <td>4</td>\n",
       "    </tr>\n",
       "    <tr>\n",
       "      <th>...</th>\n",
       "      <td>...</td>\n",
       "      <td>...</td>\n",
       "    </tr>\n",
       "    <tr>\n",
       "      <th>7131622</th>\n",
       "      <td>1</td>\n",
       "      <td>1</td>\n",
       "    </tr>\n",
       "    <tr>\n",
       "      <th>7221090</th>\n",
       "      <td>12</td>\n",
       "      <td>12</td>\n",
       "    </tr>\n",
       "    <tr>\n",
       "      <th>7293754</th>\n",
       "      <td>10</td>\n",
       "      <td>11</td>\n",
       "    </tr>\n",
       "    <tr>\n",
       "      <th>7407340</th>\n",
       "      <td>2</td>\n",
       "      <td>2</td>\n",
       "    </tr>\n",
       "    <tr>\n",
       "      <th>7428530</th>\n",
       "      <td>5</td>\n",
       "      <td>6</td>\n",
       "    </tr>\n",
       "  </tbody>\n",
       "</table>\n",
       "<p>209 rows × 2 columns</p>\n",
       "</div>"
      ],
      "text/plain": [
       "         unique_people  cast_size\n",
       "movie                            \n",
       "0069049             21         22\n",
       "0365907             85         85\n",
       "0369610            213        215\n",
       "0374463             31         33\n",
       "0384580              3          4\n",
       "...                ...        ...\n",
       "7131622              1          1\n",
       "7221090             12         12\n",
       "7293754             10         11\n",
       "7407340              2          2\n",
       "7428530              5          6\n",
       "\n",
       "[209 rows x 2 columns]"
      ]
     },
     "execution_count": 221,
     "metadata": {},
     "output_type": "execute_result"
    }
   ],
   "source": [
    "crew_df.groupby(\"movie\").agg(\n",
    "    unique_people = (\"person\", \"nunique\"), \n",
    "    cast_size =     (\"p_role\", 'size')\n",
    "    )"
   ]
  },
  {
   "cell_type": "code",
   "execution_count": 233,
   "metadata": {},
   "outputs": [
    {
     "data": {
      "application/vnd.microsoft.datawrangler.viewer.v0+json": {
       "columns": [
        {
         "name": "index",
         "rawType": "int64",
         "type": "integer"
        },
        {
         "name": "person",
         "rawType": "object",
         "type": "string"
        },
        {
         "name": "n_movies",
         "rawType": "int64",
         "type": "integer"
        }
       ],
       "ref": "eebadc02-c420-4e15-a0b7-0779510680db",
       "rows": [
        [
         "0",
         "7300642",
         "1"
        ],
        [
         "1",
         "0701818",
         "2"
        ],
        [
         "2",
         "1940449",
         "1"
        ],
        [
         "3",
         "0263141",
         "1"
        ],
        [
         "4",
         "5014801",
         "1"
        ],
        [
         "5",
         "1781213",
         "1"
        ],
        [
         "6",
         "3866116",
         "1"
        ],
        [
         "7",
         "4650037",
         "1"
        ],
        [
         "8",
         "1783121",
         "1"
        ],
        [
         "9",
         "4792936",
         "1"
        ],
        [
         "10",
         "7684489",
         "1"
        ],
        [
         "11",
         "0055444",
         "1"
        ],
        [
         "12",
         "5031651",
         "1"
        ],
        [
         "13",
         "5207101",
         "1"
        ],
        [
         "14",
         "6561465",
         "1"
        ],
        [
         "15",
         "5418959",
         "1"
        ],
        [
         "16",
         "4215569",
         "1"
        ],
        [
         "17",
         "2949090",
         "1"
        ],
        [
         "18",
         "9057115",
         "1"
        ],
        [
         "19",
         "5352674",
         "1"
        ],
        [
         "20",
         "4866777",
         "1"
        ],
        [
         "21",
         "7010146",
         "1"
        ],
        [
         "22",
         "5963479",
         "1"
        ],
        [
         "23",
         "1541685",
         "1"
        ],
        [
         "24",
         "2094023",
         "1"
        ],
        [
         "25",
         "7412430",
         "1"
        ],
        [
         "26",
         "0502073",
         "2"
        ],
        [
         "27",
         "0092216",
         "1"
        ],
        [
         "28",
         "7483377",
         "1"
        ],
        [
         "29",
         "3037819",
         "1"
        ],
        [
         "30",
         "4363694",
         "2"
        ],
        [
         "31",
         "7165196",
         "1"
        ],
        [
         "32",
         "7126594",
         "1"
        ],
        [
         "33",
         "2933059",
         "1"
        ],
        [
         "34",
         "1239796",
         "1"
        ],
        [
         "35",
         "3814527",
         "2"
        ],
        [
         "36",
         "7698437",
         "1"
        ],
        [
         "37",
         "4077695",
         "1"
        ],
        [
         "38",
         "6625490",
         "1"
        ],
        [
         "39",
         "0155726",
         "1"
        ],
        [
         "40",
         "0060302",
         "1"
        ],
        [
         "41",
         "0432228",
         "1"
        ],
        [
         "42",
         "3882187",
         "1"
        ],
        [
         "43",
         "0556453",
         "1"
        ],
        [
         "44",
         "0500187",
         "1"
        ],
        [
         "45",
         "0553926",
         "1"
        ],
        [
         "46",
         "0421120",
         "1"
        ],
        [
         "47",
         "4048455",
         "1"
        ],
        [
         "48",
         "0479471",
         "1"
        ],
        [
         "49",
         "7827567",
         "1"
        ]
       ],
       "shape": {
        "columns": 2,
        "rows": 7690
       }
      },
      "text/html": [
       "<div>\n",
       "<style scoped>\n",
       "    .dataframe tbody tr th:only-of-type {\n",
       "        vertical-align: middle;\n",
       "    }\n",
       "\n",
       "    .dataframe tbody tr th {\n",
       "        vertical-align: top;\n",
       "    }\n",
       "\n",
       "    .dataframe thead th {\n",
       "        text-align: right;\n",
       "    }\n",
       "</style>\n",
       "<table border=\"1\" class=\"dataframe\">\n",
       "  <thead>\n",
       "    <tr style=\"text-align: right;\">\n",
       "      <th></th>\n",
       "      <th>person</th>\n",
       "      <th>n_movies</th>\n",
       "    </tr>\n",
       "  </thead>\n",
       "  <tbody>\n",
       "    <tr>\n",
       "      <th>0</th>\n",
       "      <td>7300642</td>\n",
       "      <td>1</td>\n",
       "    </tr>\n",
       "    <tr>\n",
       "      <th>1</th>\n",
       "      <td>0701818</td>\n",
       "      <td>2</td>\n",
       "    </tr>\n",
       "    <tr>\n",
       "      <th>2</th>\n",
       "      <td>1940449</td>\n",
       "      <td>1</td>\n",
       "    </tr>\n",
       "    <tr>\n",
       "      <th>3</th>\n",
       "      <td>0263141</td>\n",
       "      <td>1</td>\n",
       "    </tr>\n",
       "    <tr>\n",
       "      <th>4</th>\n",
       "      <td>5014801</td>\n",
       "      <td>1</td>\n",
       "    </tr>\n",
       "    <tr>\n",
       "      <th>...</th>\n",
       "      <td>...</td>\n",
       "      <td>...</td>\n",
       "    </tr>\n",
       "    <tr>\n",
       "      <th>7685</th>\n",
       "      <td>1293441</td>\n",
       "      <td>1</td>\n",
       "    </tr>\n",
       "    <tr>\n",
       "      <th>7686</th>\n",
       "      <td>5651029</td>\n",
       "      <td>1</td>\n",
       "    </tr>\n",
       "    <tr>\n",
       "      <th>7687</th>\n",
       "      <td>4128579</td>\n",
       "      <td>1</td>\n",
       "    </tr>\n",
       "    <tr>\n",
       "      <th>7688</th>\n",
       "      <td>1218295</td>\n",
       "      <td>1</td>\n",
       "    </tr>\n",
       "    <tr>\n",
       "      <th>7689</th>\n",
       "      <td>0024780</td>\n",
       "      <td>1</td>\n",
       "    </tr>\n",
       "  </tbody>\n",
       "</table>\n",
       "<p>7690 rows × 2 columns</p>\n",
       "</div>"
      ],
      "text/plain": [
       "       person  n_movies\n",
       "0     7300642         1\n",
       "1     0701818         2\n",
       "2     1940449         1\n",
       "3     0263141         1\n",
       "4     5014801         1\n",
       "...       ...       ...\n",
       "7685  1293441         1\n",
       "7686  5651029         1\n",
       "7687  4128579         1\n",
       "7688  1218295         1\n",
       "7689  0024780         1\n",
       "\n",
       "[7690 rows x 2 columns]"
      ]
     },
     "execution_count": 233,
     "metadata": {},
     "output_type": "execute_result"
    }
   ],
   "source": [
    "# for each actor count the number of movies\n",
    "# In SQL:\n",
    "\n",
    "sql = \"\"\"\n",
    "SELECT person, count(movie) as n_movies\n",
    "FROM public.crew\n",
    "WHERE p_role = 'actor'\n",
    "GROUP BY person\n",
    "\"\"\"\n",
    "pd.read_sql(sql, con=connection)"
   ]
  },
  {
   "cell_type": "code",
   "execution_count": 235,
   "metadata": {},
   "outputs": [
    {
     "data": {
      "application/vnd.microsoft.datawrangler.viewer.v0+json": {
       "columns": [
        {
         "name": "index",
         "rawType": "int64",
         "type": "integer"
        },
        {
         "name": "given_name",
         "rawType": "object",
         "type": "string"
        },
        {
         "name": "n_movies",
         "rawType": "int64",
         "type": "integer"
        }
       ],
       "ref": "2bfb0940-327f-44e2-a32c-492274a657e1",
       "rows": [
        [
         "0",
         "Leonardo DiCaprio",
         "13"
        ]
       ],
       "shape": {
        "columns": 2,
        "rows": 1
       }
      },
      "text/html": [
       "<div>\n",
       "<style scoped>\n",
       "    .dataframe tbody tr th:only-of-type {\n",
       "        vertical-align: middle;\n",
       "    }\n",
       "\n",
       "    .dataframe tbody tr th {\n",
       "        vertical-align: top;\n",
       "    }\n",
       "\n",
       "    .dataframe thead th {\n",
       "        text-align: right;\n",
       "    }\n",
       "</style>\n",
       "<table border=\"1\" class=\"dataframe\">\n",
       "  <thead>\n",
       "    <tr style=\"text-align: right;\">\n",
       "      <th></th>\n",
       "      <th>given_name</th>\n",
       "      <th>n_movies</th>\n",
       "    </tr>\n",
       "  </thead>\n",
       "  <tbody>\n",
       "    <tr>\n",
       "      <th>0</th>\n",
       "      <td>Leonardo DiCaprio</td>\n",
       "      <td>13</td>\n",
       "    </tr>\n",
       "  </tbody>\n",
       "</table>\n",
       "</div>"
      ],
      "text/plain": [
       "          given_name  n_movies\n",
       "0  Leonardo DiCaprio        13"
      ]
     },
     "execution_count": 235,
     "metadata": {},
     "output_type": "execute_result"
    }
   ],
   "source": [
    "# find the actor with the highest number of movies\n",
    "\n",
    "sql = \"\"\"\n",
    "-- compute the virtual table of counts for each actor\n",
    "WITH count_people AS (\n",
    "    SELECT person, COUNT(movie) AS n_movies\n",
    "    FROM public.crew\n",
    "    WHERE p_role = 'actor'\n",
    "    GROUP BY person\n",
    "    )\n",
    "    \n",
    "-- use the computed table in the nested query inside the WHERE clause to select the movie with MAX length\n",
    "-- the JOIN with the 'person' table is needed if we also want to return the given_name \n",
    "SELECT given_name, n_movies\n",
    "FROM count_people INNER JOIN public.person ON count_people.person = person.id\n",
    "WHERE n_movies = (\n",
    "    SELECT MAX(n_movies) \n",
    "    FROM count_people\n",
    "    )\n",
    "\"\"\"\n",
    "pd.read_sql(sql, con=connection)"
   ]
  },
  {
   "cell_type": "code",
   "execution_count": null,
   "metadata": {},
   "outputs": [],
   "source": [
    "# find the movie with the highest number of cast members\n",
    "\n",
    "sql = \"\"\"\n",
    "-- compute the virtual table of counts for each movie\n",
    "WITH count_people AS (\n",
    "    SELECT movie, count(person) as n_people\n",
    "    FROM imdb.crew \n",
    "    GROUP BY movie)\n",
    "\n",
    "-- use the computed table of counts in the WHERE clause to select the movie with MAX n_people\n",
    "-- the JOIN with movie is only needed if you want to also return the official_title\n",
    "SELECT official_title, n_people\n",
    "FROM count_people INNER JOIN imdb.movie ON count_people.movie = movie.id \n",
    "WHERE n_people = (\n",
    "    SELECT MAX(n_people) \n",
    "    FROM count_people)\n",
    "\"\"\"\n",
    "pd.read_sql(sql, con=connection)"
   ]
  },
  {
   "cell_type": "code",
   "execution_count": null,
   "metadata": {},
   "outputs": [],
   "source": [
    "# return the given_name of the actors with more than 50 movies\n",
    "\n",
    "# In SQL:\n",
    "\n",
    "# when using the HAVING clause, you can't use the alias of the new column: 'n_movies'\n",
    "# because the HAVING is evaluated before the SELECT, which will be eveluated as last.\n",
    "# Thus, you need to compute the aggregation over a column in the HAVING clause AS well.\n",
    "\n",
    "sql = \"\"\"\n",
    "SELECT person.id, given_name, count(movie) AS n_movies\n",
    "FROM imdb.person LEFT JOIN imdb.crew ON person.id = crew.person\n",
    "WHERE p_role = 'actor' \n",
    "GROUP BY person.id, given_name\n",
    "HAVING count(movie) > 50 \n",
    "\"\"\"\n",
    "\n",
    "print(len(pd.read_sql(sql, con=connection)))\n",
    "\n",
    "# In Pandas:\n",
    "\n",
    "# 1) JOIN dataframes\n",
    "merged_df = pd.merge(person_df, crew_df, how='left', left_on='id', right_on='person')\n",
    "\n",
    "# 2) Filter rows\n",
    "merged_df = merged_df[(merged_df[\"p_role\"] == 'actor') | (merged_df[\"p_role\"].isna())]\n",
    "\n",
    "# 3) Group by and aggregate rows\n",
    "gouped_df = merged_df.groupby([\"id\", \"given_name\"], dropna=False).agg(n_movies=(\"movie\", \"count\"))\n",
    "\n",
    "# 4) Filter groups\n",
    "gouped_df[gouped_df[\"n_movies\"]> 50]"
   ]
  },
  {
   "cell_type": "code",
   "execution_count": null,
   "metadata": {},
   "outputs": [],
   "source": [
    "# for each alive actor, count the number of movies, and return the year of her first and last movie along with her given_name\n",
    "\n",
    "# In SQL:\n",
    "\n",
    "sql = '''\n",
    "SELECT person.id, given_name,\n",
    "       count(distinct movie) AS n_movies,\n",
    "       min(year) AS first,\n",
    "       max(year) AS last\n",
    "FROM imdb.person \n",
    "INNER JOIN imdb.crew ON id = person\n",
    "LEFT JOIN imdb.movie ON crew.movie = movie.id\n",
    "WHERE death_date IS NULL AND p_role = 'actor' \n",
    "GROUP BY person.id, given_name -- include 'given_name' in GROUP BY in order to then return it in the SELECT \n",
    "ORDER BY n_movies DESC\n",
    "'''\n",
    "\n",
    "print(len(pd.read_sql(sql, con=connection)))\n",
    "\n",
    "# In Pandas:\n",
    "\n",
    "# 1. join tables\n",
    "merged_df = pd.merge(person_df, crew_df, how=\"inner\", left_on=\"id\", right_on=\"person\")\n",
    "merged_df = merged_df.merge(movie_df, how=\"left\", left_on='movie', right_on='id', suffixes=[\"_person\", \"_movie\"])\n",
    "\n",
    "# 2. filter rows\n",
    "is_alive = merged_df.death_date.isna()\n",
    "is_actor = merged_df.p_role == 'actor'\n",
    "is_null_role = merged_df.p_role.isna()\n",
    "\n",
    "merged_df = merged_df[is_alive & (is_actor | is_null_role)]\n",
    "\n",
    "# group and aggregate\n",
    "merged_df\\\n",
    "    .groupby([\"id_person\",\"given_name\"], dropna=False)\\\n",
    "    .agg({\"movie\":\"nunique\", 'year':['min', 'max']})\\\n",
    "    .sort_values(by=('movie', 'nunique'), ascending=False)"
   ]
  }
 ],
 "metadata": {
  "kernelspec": {
   "display_name": "Python 3",
   "language": "python",
   "name": "python3"
  },
  "language_info": {
   "codemirror_mode": {
    "name": "ipython",
    "version": 3
   },
   "file_extension": ".py",
   "mimetype": "text/x-python",
   "name": "python",
   "nbconvert_exporter": "python",
   "pygments_lexer": "ipython3",
   "version": "3.12.2"
  }
 },
 "nbformat": 4,
 "nbformat_minor": 2
}
