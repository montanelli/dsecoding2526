{
 "cells": [
  {
   "cell_type": "markdown",
   "metadata": {},
   "source": [
    "# Introducing Psycopg2"
   ]
  },
  {
   "cell_type": "markdown",
   "metadata": {},
   "source": [
    "PostgreSQL is a server-based database management system (DBMS). To connect to PostgreSQL server from Python, we need a database driver.\\\n",
    "Psycopg2 is the most popular PostgreSQL driver for Python. For the documentation refer to the following [link](https://www.psycopg.org/docs/usage.html)"
   ]
  },
  {
   "cell_type": "code",
   "execution_count": 1,
   "metadata": {},
   "outputs": [],
   "source": [
    "#!pip install psycopg2\n",
    "import psycopg2\n",
    "from psycopg2 import errors"
   ]
  },
  {
   "cell_type": "markdown",
   "metadata": {},
   "source": [
    "**Key Terms**\n",
    "\n",
    "- *Cursor*:  is designed for navigating through and interacting with records in a database.\n",
    "\n",
    "- *Transaction*: A transaction represents a coherent unit of work within a database, encapsulating a series of operations into a single, indivisible process."
   ]
  },
  {
   "cell_type": "markdown",
   "metadata": {},
   "source": [
    "####  Common steps\n",
    "\n",
    "1. Establish the connection to a specific database using the `connect()` method.\n",
    "2. Get a cursor object as `connection.cursor()`.\n",
    "3. Issue queries using  `cursor.execute()`. \n",
    "4. Fetch the results using `cursor.fetchall()`.\n",
    "5. Commit the transaction using `connection.commit()`.\n",
    "6. Close the connection using `connection.close()`."
   ]
  },
  {
   "cell_type": "markdown",
   "metadata": {},
   "source": [
    "#### *Step 1. Connect to the database.* \n",
    "\n",
    "The function `connect()` creates a new database session. It allows to:\\\n",
    "    - create new cursor instances using the `cursor()` method to execute SQL statements\\\n",
    "    - terminate transactions using the methods `commit()` or `rollback()`"
   ]
  },
  {
   "cell_type": "code",
   "execution_count": 2,
   "metadata": {},
   "outputs": [],
   "source": [
    "# Step 1. Establish a connection to an existing database\n",
    "\n",
    "connection = psycopg2.connect(\n",
    "            database=\"postgres\",\n",
    "            user=\"postgres\",\n",
    "            password=\"2104\",\n",
    "            host=\"localhost\", \n",
    "            port =\"5432\"\n",
    "        )"
   ]
  },
  {
   "cell_type": "code",
   "execution_count": 3,
   "metadata": {},
   "outputs": [
    {
     "name": "stdout",
     "output_type": "stream",
     "text": [
      "✅ Database 'books_data' created successfully!\n"
     ]
    }
   ],
   "source": [
    "DB_NAME = \"books_data\"\n",
    "\n",
    "# allow DB creation without needing manual commit\n",
    "connection.autocommit = True\n",
    "cursor = connection.cursor()\n",
    "\n",
    "try:\n",
    "    cursor.execute(f\"CREATE DATABASE {DB_NAME}\")\n",
    "    print(f\"✅ Database '{DB_NAME}' created successfully!\")\n",
    "except errors.DuplicateDatabase:\n",
    "    print(f\"ℹ️ Database '{DB_NAME}' already exists, skipping creation.\")\n",
    "\n",
    "#cursor.close()\n",
    "#connection.close()"
   ]
  },
  {
   "cell_type": "code",
   "execution_count": 4,
   "metadata": {},
   "outputs": [],
   "source": [
    "cursor.close()\n",
    "connection.close()"
   ]
  },
  {
   "cell_type": "code",
   "execution_count": 5,
   "metadata": {},
   "outputs": [],
   "source": [
    "\n",
    "connection = psycopg2.connect(\n",
    "            database=\"books_data\",\n",
    "            user=\"postgres\",\n",
    "            password=\"2104\",\n",
    "            host=\"localhost\", \n",
    "            port =\"5432\"\n",
    "        )\n",
    "cursor = connection.cursor()"
   ]
  },
  {
   "cell_type": "markdown",
   "metadata": {},
   "source": [
    "#### *Step 2. Create a cursor from the connection.*\n",
    "\n",
    "The `cursor` allows Python code to execute PostgreSQL commands:\\\n",
    "    - issue commands to the database using  `execute()` and `executemany()`\\\n",
    "    - retrieve data from the database using `fetchone()`, `fetchmany()`, `fetchall()` "
   ]
  },
  {
   "cell_type": "code",
   "execution_count": 4,
   "metadata": {},
   "outputs": [],
   "source": [
    "#cursor = connection.cursor() "
   ]
  },
  {
   "cell_type": "markdown",
   "metadata": {},
   "source": [
    "#### *Step 3. Use the cursor to issue SQL commands with a `cursor.execute()` method.*\n",
    "\n",
    "The query to be executed is passed to `cursor.execute()` in string format."
   ]
  },
  {
   "cell_type": "code",
   "execution_count": 6,
   "metadata": {},
   "outputs": [],
   "source": [
    "# Create a table\n",
    "\n",
    "sql = \"\"\" \n",
    "    CREATE TABLE books(\n",
    "    id VARCHAR PRIMARY KEY,\n",
    "    title TEXT NOT NULL,\n",
    "    author TEXT NOT NULL\n",
    "    )\n",
    "\"\"\"\n",
    "cursor.execute(sql)"
   ]
  },
  {
   "cell_type": "code",
   "execution_count": 7,
   "metadata": {},
   "outputs": [],
   "source": [
    "#  Insert records \n",
    "\n",
    "sql = \"\"\"\n",
    "INSERT INTO books VALUES ('1', 'Foundation', 'Isaac Asimov')\n",
    "\"\"\"\n",
    "\n",
    "cursor.execute(sql)"
   ]
  },
  {
   "cell_type": "markdown",
   "metadata": {},
   "source": [
    "*Use `.execute()` to execute a placeholder-based query.*\n",
    "\n",
    "When your SQL query needs to use values from Python variables, use the parameter substitution:\\\n",
    "Put `%s` as a placeholder wherever you want to use a value, and then provide a tuple of values as the second argument to the cursor’s `execute()` method. \n"
   ]
  },
  {
   "cell_type": "code",
   "execution_count": 8,
   "metadata": {},
   "outputs": [],
   "source": [
    "sql = \"\"\"\n",
    "INSERT INTO books VALUES (%s, %s, %s)\n",
    "\"\"\"\n",
    "record = ('2', '1984', 'George Orwell') \n",
    "\n",
    "cursor.execute(sql, record)"
   ]
  },
  {
   "cell_type": "markdown",
   "metadata": {},
   "source": [
    "Use `.executemany()` to execute a placeholder-based query agains all tuples in a list."
   ]
  },
  {
   "cell_type": "code",
   "execution_count": 9,
   "metadata": {},
   "outputs": [],
   "source": [
    "sql = \"\"\"  \n",
    "    INSERT INTO books VALUES (%s, %s, %s)\n",
    "\"\"\"\n",
    "\n",
    "records = [\n",
    "    (3, 'The Body', 'Bill Bryson'),\n",
    "    (4, 'Behave', 'Robert Sapolsky'),\n",
    "    (5, 'Power', 'Pobert Greeene')\n",
    "    ]\n",
    "\n",
    "cursor.executemany(sql, records)"
   ]
  },
  {
   "cell_type": "markdown",
   "metadata": {},
   "source": [
    "*Step 4. Make the changes persistent by committing the transaction.*\n",
    "\n",
    "To apply and save changes to the database use `connection.commit()`. \\\n",
    "To discard the issued database operation use `connection.rollback()` method.\\\n",
    "Closing a connection without committing the changes first will cause an implicit rollback to be performed: \\\n",
    "the effect of any data manipulation will be lost.\\\n",
    "The connection can be also set in “autocommit” mode: \\\n",
    "any command issued with a cursor has an immediate effect without requiring an explicit commit."
   ]
  },
  {
   "cell_type": "code",
   "execution_count": 10,
   "metadata": {},
   "outputs": [],
   "source": [
    "# Make the changes to the database persistent\n",
    "connection.commit()\n",
    "\n",
    "# connection.autocommit = True"
   ]
  },
  {
   "cell_type": "markdown",
   "metadata": {},
   "source": [
    "Query the database to retrieve the data."
   ]
  },
  {
   "cell_type": "code",
   "execution_count": 11,
   "metadata": {},
   "outputs": [],
   "source": [
    "# Query the database.\n",
    "\n",
    "sql = \"\"\"\n",
    "        SELECT * \n",
    "        FROM books;\n",
    "    \"\"\"\n",
    "\n",
    "cursor.execute(sql)"
   ]
  },
  {
   "cell_type": "markdown",
   "metadata": {},
   "source": [
    "*Step 5. Fetch the data from the database using `.fetchall()`, `.fetchone()`, `.fetchmany(n)`.*\n",
    "\n",
    "`.fetchall()` method returns a list of tuples where each tuple is mapped to the corresponding row in the retrieved records."
   ]
  },
  {
   "cell_type": "code",
   "execution_count": 12,
   "metadata": {},
   "outputs": [
    {
     "data": {
      "text/plain": [
       "[('1', 'Foundation', 'Isaac Asimov'),\n",
       " ('2', '1984', 'George Orwell'),\n",
       " ('3', 'The Body', 'Bill Bryson'),\n",
       " ('4', 'Behave', 'Robert Sapolsky'),\n",
       " ('5', 'Power', 'Pobert Greeene')]"
      ]
     },
     "execution_count": 12,
     "metadata": {},
     "output_type": "execute_result"
    }
   ],
   "source": [
    "# Step 4. Fetch the results\n",
    "cursor.fetchall()"
   ]
  },
  {
   "cell_type": "markdown",
   "metadata": {},
   "source": [
    "*Step 6. Close the connection.*"
   ]
  },
  {
   "cell_type": "code",
   "execution_count": 26,
   "metadata": {},
   "outputs": [],
   "source": [
    "connection.close()"
   ]
  }
 ],
 "metadata": {
  "kernelspec": {
   "display_name": "Python 3",
   "language": "python",
   "name": "python3"
  },
  "language_info": {
   "codemirror_mode": {
    "name": "ipython",
    "version": 3
   },
   "file_extension": ".py",
   "mimetype": "text/x-python",
   "name": "python",
   "nbconvert_exporter": "python",
   "pygments_lexer": "ipython3",
   "version": "3.12.2"
  }
 },
 "nbformat": 4,
 "nbformat_minor": 2
}
