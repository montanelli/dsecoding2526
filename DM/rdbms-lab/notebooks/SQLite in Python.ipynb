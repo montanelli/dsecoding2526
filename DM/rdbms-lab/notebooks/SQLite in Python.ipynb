{
 "cells": [
  {
   "cell_type": "markdown",
   "metadata": {},
   "source": [
    "## Connect to SQLite with sqlite3\n",
    "\n",
    "*SQLite* is a lightweight **serverless**,  disk-based database.\\\n",
    "Unlike with PostgreSQL, you don’t need to install and run a separate server process to perform database operations. \\\n",
    "The database exists as a single file, allowing it to be integrated directly into applications.\\\n",
    "To interact with SQLite database from Python we use `sqlite3` library which is by default provided with your Python installation.\n",
    "\n"
   ]
  },
  {
   "cell_type": "code",
   "execution_count": 1,
   "metadata": {},
   "outputs": [],
   "source": [
    "import sqlite3"
   ]
  },
  {
   "cell_type": "markdown",
   "metadata": {},
   "source": [
    "*Step 1. Establish a connection to the SQLite database.*\n",
    "\n",
    "Create a connection to the SQLite database by passing the path to the database file to be opened.\\\n",
    "N.B. If the specified database does not exist, SQLite will automatically create it."
   ]
  },
  {
   "cell_type": "code",
   "execution_count": 3,
   "metadata": {},
   "outputs": [],
   "source": [
    "# connecting to books_data.db in the current working directory, implicitly creating it if it does not exist ...\n",
    "\n",
    "db = sqlite3.connect(database=\"./books_data.db\")"
   ]
  },
  {
   "cell_type": "markdown",
   "metadata": {},
   "source": [
    "An SQLite database is normally stored in a single file. However, the database can be stored in memory by passing the string \":memory:\" instead of the filename.\\\n",
    "When this is done, no disk file is opened. Instead, a new database is created purely in memory.\\\n",
    "The database is never persisted to a disk, and ceases to exist as soon as the database connection is closed."
   ]
  },
  {
   "cell_type": "code",
   "execution_count": null,
   "metadata": {},
   "outputs": [],
   "source": [
    "# connecting (and creating) an in-memory only database ...\n",
    "\n",
    "db = sqlite3.connect(database=\":memory:\")"
   ]
  },
  {
   "cell_type": "markdown",
   "metadata": {},
   "source": [
    "*Step 2. Get a **cursor** object from the **connection**.* \n",
    "\n",
    "In order to execute SQL statements and fetch results from SQL queries, we will need to use a database cursor."
   ]
  },
  {
   "cell_type": "code",
   "execution_count": 4,
   "metadata": {},
   "outputs": [],
   "source": [
    "# Create a cursor object using the connection's \"cursor\" method. \n",
    "\n",
    "cursor = db.cursor()"
   ]
  },
  {
   "cell_type": "markdown",
   "metadata": {},
   "source": [
    "*Step 3. Issue SQL statements using `.execute()` method.*"
   ]
  },
  {
   "cell_type": "code",
   "execution_count": 5,
   "metadata": {},
   "outputs": [
    {
     "data": {
      "text/plain": [
       "<sqlite3.Cursor at 0x24a9f33edc0>"
      ]
     },
     "execution_count": 5,
     "metadata": {},
     "output_type": "execute_result"
    }
   ],
   "source": [
    "sql = \"\"\" \n",
    "    CREATE TABLE books(\n",
    "    id VARCHAR PRIMARY KEY,\n",
    "    title TEXT NOT NULL,\n",
    "    author TEXT NOT NULL\n",
    "    )\n",
    "\"\"\"\n",
    "\n",
    "cursor.execute(sql)"
   ]
  },
  {
   "cell_type": "code",
   "execution_count": null,
   "metadata": {},
   "outputs": [],
   "source": [
    "# Useful commands - alter table\n",
    "cursor.execute(\"\"\"\n",
    "    ALTER TABLE books\n",
    "    ADD COLUMN page_number Varchar;\n",
    "\"\"\")\n",
    "\n",
    "#remove row(s):\n",
    "\n",
    "cursor.execute(\"\"\"\n",
    "    DELETE FROM books\n",
    "    WHERE id = ?;\n",
    "\"\"\", ('1',))\n"
   ]
  },
  {
   "cell_type": "code",
   "execution_count": 6,
   "metadata": {},
   "outputs": [
    {
     "data": {
      "text/plain": [
       "<sqlite3.Cursor at 0x24a9f33edc0>"
      ]
     },
     "execution_count": 6,
     "metadata": {},
     "output_type": "execute_result"
    }
   ],
   "source": [
    "# Insert a record\n",
    "\n",
    "sql = \"\"\"\n",
    "INSERT INTO books VALUES ('1', 'Foundation', 'Isaac Asimov')\n",
    "\"\"\"\n",
    "cursor.execute(sql)"
   ]
  },
  {
   "cell_type": "markdown",
   "metadata": {},
   "source": [
    "*Placeholder-based queries*\n",
    "\n",
    "Pass a SQL query along with the data (a sequence of values) to fill a query placeholders.\\\n",
    "The values in a sequence correspond to the column values in the database table."
   ]
  },
  {
   "cell_type": "code",
   "execution_count": 7,
   "metadata": {},
   "outputs": [
    {
     "data": {
      "text/plain": [
       "<sqlite3.Cursor at 0x24a9f33edc0>"
      ]
     },
     "execution_count": 7,
     "metadata": {},
     "output_type": "execute_result"
    }
   ],
   "source": [
    "sql = \"\"\"\n",
    "INSERT INTO books VALUES (?, ?, ?)\n",
    "\"\"\"\n",
    "record = ('2', '1984', 'George Orwell') \n",
    "\n",
    "cursor.execute(sql, record)"
   ]
  },
  {
   "cell_type": "markdown",
   "metadata": {},
   "source": [
    "Use the `executemany()` method to insert multiple records."
   ]
  },
  {
   "cell_type": "code",
   "execution_count": 8,
   "metadata": {},
   "outputs": [
    {
     "data": {
      "text/plain": [
       "<sqlite3.Cursor at 0x24a9f33edc0>"
      ]
     },
     "execution_count": 8,
     "metadata": {},
     "output_type": "execute_result"
    }
   ],
   "source": [
    "sql = \"\"\"\n",
    "    INSERT INTO books \n",
    "    VALUES (?, ?, ?)\n",
    "\"\"\"\n",
    "\n",
    "records = [\n",
    "    (3, 'The Body', 'Bill Bryson'),\n",
    "    (4, 'Behave', 'Robert Sapolsky'),\n",
    "    (5, 'Power', 'Pobert Greene')\n",
    "    ]\n",
    "\n",
    "cursor.executemany(sql, records)"
   ]
  },
  {
   "cell_type": "code",
   "execution_count": 29,
   "metadata": {},
   "outputs": [
    {
     "data": {
      "text/plain": [
       "<sqlite3.Cursor at 0x24a9f33edc0>"
      ]
     },
     "execution_count": 29,
     "metadata": {},
     "output_type": "execute_result"
    }
   ],
   "source": [
    "# Retrieve the data from the database\n",
    "\n",
    "sql = \"\"\"\n",
    "        SELECT * \n",
    "        FROM books;\n",
    "    \"\"\"\n",
    "\n",
    "cursor.execute(sql)"
   ]
  },
  {
   "cell_type": "markdown",
   "metadata": {},
   "source": [
    "*Step 4. Fetch the results.*\n",
    "\n",
    "Once a query has been executed, results can be retrieved using the fetchone and fetchall methods on the cursor:\\\n",
    "    - `fetchall` will retrieve all results as a list of tuples. \\\n",
    "    - `fetchone` will retrieve a single row of results each time that it is invoked until no more results are available."
   ]
  },
  {
   "cell_type": "code",
   "execution_count": 30,
   "metadata": {},
   "outputs": [
    {
     "data": {
      "text/plain": [
       "[('1', 'Foundation', 'Isaac Asimov'),\n",
       " ('2', '1984', 'George Orwell'),\n",
       " ('3', 'The Body', 'Bill Bryson'),\n",
       " ('4', 'Behave', 'Robert Sapolsky'),\n",
       " ('5', 'Power', 'Pobert Greene')]"
      ]
     },
     "execution_count": 30,
     "metadata": {},
     "output_type": "execute_result"
    }
   ],
   "source": [
    "cursor.fetchall()\n"
   ]
  },
  {
   "cell_type": "markdown",
   "metadata": {},
   "source": [
    "*Step 5. Make the changes persistent by committing the transaction.*"
   ]
  },
  {
   "cell_type": "code",
   "execution_count": 31,
   "metadata": {},
   "outputs": [],
   "source": [
    "# Commit the transaction\n",
    "db.commit()"
   ]
  },
  {
   "cell_type": "markdown",
   "metadata": {},
   "source": [
    "*Step 6. Close the connection and release the resources.*"
   ]
  },
  {
   "cell_type": "code",
   "execution_count": 32,
   "metadata": {},
   "outputs": [],
   "source": [
    "db.close()"
   ]
  }
 ],
 "metadata": {
  "kernelspec": {
   "display_name": "Python 3",
   "language": "python",
   "name": "python3"
  },
  "language_info": {
   "codemirror_mode": {
    "name": "ipython",
    "version": 3
   },
   "file_extension": ".py",
   "mimetype": "text/x-python",
   "name": "python",
   "nbconvert_exporter": "python",
   "pygments_lexer": "ipython3",
   "version": "3.12.2"
  }
 },
 "nbformat": 4,
 "nbformat_minor": 2
}
